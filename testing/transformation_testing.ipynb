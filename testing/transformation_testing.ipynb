{
 "cells": [
  {
   "cell_type": "code",
   "execution_count": 1,
   "metadata": {},
   "outputs": [],
   "source": [
    "from url import *"
   ]
  },
  {
   "cell_type": "markdown",
   "metadata": {},
   "source": [
    "- We have the updated ingredients list with new quantities\n",
    "- Need to map the quantities to the instructions\n",
    "- Go through the instructions and look for ingredient measurement + descriptor + name"
   ]
  },
  {
   "cell_type": "code",
   "execution_count": 4,
   "metadata": {},
   "outputs": [
    {
     "name": "stdout",
     "output_type": "stream",
     "text": [
      "['Gather all ingredients', 'Heat a deep cast iron skillet over medium heat.', 'Season chicken breasts with salt, garlic, and Italian seasoning.', 'Pour 2 teaspoons oil into the skillet', 'Once hot, add chicken', 'Cook until golden, turning once, about 4 minutes per side', 'Move chicken to one side of the skillet.', 'Pour remaining oil into the skillet', 'Add minced shallot; cook until softened, about 3 minutes', 'Add the garlic, stir until fragrant, about 1 minute.', 'Add the crushed tomatoes, salt, sugar, red pepper flakes, and basil', 'Pour in chicken broth and wine', 'Stir to combine.', 'Add pasta to the skillet', 'Nestle chicken pieces on top of pasta', 'Reduce heat to medium-low', 'Cover, and cook until pasta is tender with a bite, about 8 minutes', 'Taste and adjust seasoning; serve immediately.']\n",
      "\n",
      "\n"
     ]
    },
    {
     "data": {
      "text/plain": [
       "{'ingredients': [{'quantity': '2',\n",
       "   'unit': 'pound',\n",
       "   'name': 'tofu',\n",
       "   'preparation': 'thinly sliced'},\n",
       "  {'quantity': '1.5', 'unit': 'teaspoon', 'name': ' salt'},\n",
       "  {'quantity': '2', 'unit': 'teaspoon', 'name': ' garlic granules'},\n",
       "  {'quantity': '2', 'unit': 'teaspoon', 'name': ' Italian seasoning'},\n",
       "  {'quantity': '4',\n",
       "   'unit': 'tablespoons',\n",
       "   'name': ' , olive oil',\n",
       "   'preparation': 'divided'},\n",
       "  {'quantity': '2', 'name': ' , shallot', 'preparation': 'minced'},\n",
       "  {'quantity': '8',\n",
       "   'unit': 'cloves',\n",
       "   'name': ' , garlic',\n",
       "   'preparation': 'minced'},\n",
       "  {'quantity': '2',\n",
       "   'unit': '(28 ounce) can',\n",
       "   'name': ' can tomatoes',\n",
       "   'preparation': 'crushed'},\n",
       "  {'quantity': '0.75', 'unit': 'teaspoon', 'name': ' salt'},\n",
       "  {'quantity': '2', 'unit': 'teaspoon', 'name': ' white sugar'},\n",
       "  {'quantity': '0.75',\n",
       "   'unit': 'teaspoon',\n",
       "   'name': ' red pepper flakes',\n",
       "   'preparation': 'crushed'},\n",
       "  {'quantity': '2',\n",
       "   'unit': 'tablespoon',\n",
       "   'name': ' fresh basil',\n",
       "   'preparation': 'chopped'},\n",
       "  {'quantity': '1 3/4', 'unit': 'cups', 'name': 'vegetable broth'},\n",
       "  {'quantity': '0.5', 'unit': 'cup', 'name': ' pinot grigio'},\n",
       "  {'quantity': '32', 'unit': 'ounces', 'name': ' conchiglie pasta'}],\n",
       " 'instructions': ['gather all ingredients',\n",
       "  'heat a deep cast iron skillet over medium heat.',\n",
       "  'season tofu or seitan breasts with salt, garlic, and italian seasoning.',\n",
       "  'pour 4 teaspoons oil into the skillet',\n",
       "  'once hot, add tofu or seitan',\n",
       "  'cook until golden, turning once, about 4 minutes per side',\n",
       "  'move tofu or seitan to one side of the skillet.',\n",
       "  'pour remaining oil into the skillet',\n",
       "  'add minced shallot; cook until softened, about 3 minutes',\n",
       "  'add the garlic, stir until fragrant, about 1 minute.',\n",
       "  'add the crushed tomatoes, salt, sugar, red pepper flakes, and basil',\n",
       "  'pour in tofu or seitan broth and wine',\n",
       "  'stir to combine.',\n",
       "  'add pasta to the skillet',\n",
       "  'nestle tofu or seitan pieces on top of pasta',\n",
       "  'reduce heat to medium-low',\n",
       "  'cover, and cook until pasta is tender with a bite, about 8 minutes',\n",
       "  'taste and adjust seasoning; serve immediately.']}"
      ]
     },
     "execution_count": 4,
     "metadata": {},
     "output_type": "execute_result"
    }
   ],
   "source": [
    "# url = \"https://www.allrecipes.com/mediterranean-baked-cod-with-lemon-recipe-8576313\"\n",
    "url = \"https://www.allrecipes.com/one-pot-chicken-pomodoro-recipe-8730087\"\n",
    "# url = 'https://www.allrecipes.com/shrimp-biryani-recipe-8679342'\n",
    "# fetch_page_from_url(url)\n",
    "\n",
    "### Test extract methods per step below ###\n",
    "\n",
    "ingredients, instructions = fetch_page_from_url(url)\n",
    "\n",
    "print(instructions)\n",
    "print('\\n')\n",
    "\n",
    "transform_recipe(ingredients, instructions, to_vegetarian, scale=2.0)\n",
    "\n",
    "# vegan_transform = transform_recipe(ingredients, instructions, to_vegetarian)\n",
    "# print(vegan_transform['ingredients'])\n",
    "# print(vegan_transform['instructions'])\n",
    "# print('\\n')\n",
    "\n",
    "# healthy_transform = transform_recipe(ingredients, instructions, to_healthy)\n",
    "# print(healthy_transform['ingredients'])\n",
    "# print(healthy_transform['instructions'])\n",
    "# print('\\n')\n",
    "\n",
    "# mexican_transform = transform_recipe(ingredients, instructions, mexican_style['ingredients'], mexican_style['techniques'])\n",
    "# print(mexican_transform['ingredients'])\n",
    "# print(mexican_transform['instructions'])\n",
    "# print('\\n')\n",
    "\n",
    "# italian_transform = transform_recipe(ingredients, instructions, italian_style['ingredients'], italian_style['techniques'])\n",
    "# print(italian_transform['ingredients'])\n",
    "# print(italian_transform['instructions'])\n",
    "# print('\\n')"
   ]
  },
  {
   "cell_type": "code",
   "execution_count": null,
   "metadata": {},
   "outputs": [],
   "source": [
    "\n",
    "\n",
    "\n",
    "### Handles fractions in ingredients list\n",
    "\n",
    "def parse_fraction(quantity_str):\n",
    "    parts = quantity_str.split()\n",
    "    if len(parts) == 1:\n",
    "        if '/' in parts[0]:\n",
    "            numerator, denominator = parts[0].split('/')\n",
    "            return Fraction(int(numerator), int(denominator))\n",
    "        else:\n",
    "            return Fraction(str(float(parts[0])))\n",
    "    else:\n",
    "        whole = int(parts[0])\n",
    "        frac_part = parts[1]\n",
    "        numerator, denominator = frac_part.split('/')\n",
    "        return Fraction(whole * int(denominator) + int(numerator), int(denominator))\n",
    "\n",
    "def format_fraction(frac):\n",
    "    if frac.denominator == 1:\n",
    "        return str(frac.numerator)\n",
    "    else:\n",
    "        whole = frac.numerator // frac.denominator\n",
    "        remainder = frac.numerator % frac.denominator\n",
    "        if whole == 0:\n",
    "            return f\"{remainder}/{frac.denominator}\"\n",
    "        else:\n",
    "            return f\"{whole} {remainder}/{frac.denominator}\""
   ]
  },
  {
   "cell_type": "code",
   "execution_count": 3,
   "metadata": {},
   "outputs": [],
   "source": [
    "def substr(word, list):\n",
    "    for i in list:\n",
    "        if word in i or i in word:\n",
    "            return True\n",
    "    return False\n",
    "\n",
    "def scale_instructions(ingredients, instructions, factor):\n",
    "    if not factor:\n",
    "        return instructions\n",
    "\n",
    "    measurements = set()\n",
    "    ingredient_names = set()\n",
    "    for ing in ingredients:\n",
    "        if \"unit\" in ing and ing[\"unit\"]:\n",
    "            measurements.add(ing[\"unit\"].lower())\n",
    "\n",
    "        if \"name\" in ing and ing[\"name\"]:\n",
    "            # first_word = ing[\"name\"].split()[0].lower()\n",
    "            ingredient_names.add(ing[\"name\"])\n",
    "\n",
    "    scaled_instructions = []\n",
    "\n",
    "    for line in instructions:\n",
    "        words = line.split()\n",
    "        i = 0\n",
    "        while i < len(words):\n",
    "            word = words[i]\n",
    "            \n",
    "            # Handles mixed fractions (i.e. 1 1/2)\n",
    "            if i + 1 < len(words):\n",
    "                try:\n",
    "                    whole_num = float(word)\n",
    "                    next_token = words[i+1]\n",
    "                    if '/' in next_token:\n",
    "                        combined = f\"{word} {next_token}\"\n",
    "                        del words[i+1]\n",
    "                        word = combined\n",
    "                except ValueError:\n",
    "                    pass\n",
    "            \n",
    "            # look for fractions\n",
    "            parsed_value = None\n",
    "            try:\n",
    "                parsed_value = parse_fraction(word)\n",
    "            except:\n",
    "                pass\n",
    "            \n",
    "            # check if next word is found in our ingredients list (i.e. teaspoon)\n",
    "            if parsed_value is not None and i + 1 < len(words):\n",
    "                next_word = words[i+1].lower()\n",
    "                if next_word != \"to\" and next_word != \"F\" and (substr(next_word, measurements) or substr(next_word, ingredient_names)):\n",
    "                    new_quantity = parsed_value * factor\n",
    "                    if new_quantity.is_integer():\n",
    "                        words[i] = str(int(new_quantity))\n",
    "                    else:\n",
    "                        words[i] = str(new_quantity)\n",
    "             \n",
    "\n",
    "            i += 1\n",
    "\n",
    "        scaled_instructions.append(\" \".join(words))\n",
    "\n",
    "    return scaled_instructions"
   ]
  },
  {
   "cell_type": "code",
   "execution_count": 5,
   "metadata": {},
   "outputs": [
    {
     "name": "stdout",
     "output_type": "stream",
     "text": [
      "True\n"
     ]
    }
   ],
   "source": [
    "test = {\"a\":1}\n",
    "test2 = {\"b\":2}\n",
    "print(\"True\") if test or test2 else print(\"False\")"
   ]
  },
  {
   "cell_type": "code",
   "execution_count": 4,
   "metadata": {},
   "outputs": [
    {
     "data": {
      "text/plain": [
       "['Gather all ingredients.',\n",
       " 'Place rice in a large bowl, and cover with cold running water',\n",
       " 'Agitate with hands to release excess starch, and pour off water',\n",
       " 'Repeat process until water is mostly clear, 4 to 5 times.',\n",
       " 'Heat 2 tablespoons of the ghee in a medium saucepan over medium-high heat',\n",
       " 'Add 1 tablespoon garam masala, 2 teaspoons salt, 1 teaspoon each of grated garlic and ginger, and 1/2 teaspoon coriander',\n",
       " 'Cook, stirring constantly, until fragrant, about 1 minute',\n",
       " 'Add rice, and cook, stirring constantly, until rice is well coated in ghee and spices, 1 to 2 minutes.',\n",
       " 'Add 2 1/4 cups water, and stir',\n",
       " 'Bring to a boil over high heat',\n",
       " 'Stir, and cover with a tight-fitting lid',\n",
       " 'Reduce heat to medium-low',\n",
       " 'Simmer, undisturbed, until rice is just tender, about 12 minutes',\n",
       " 'Remove from heat, and remove lid',\n",
       " 'Fluff with a fork, and set aside.',\n",
       " 'Meanwhile, whisk together yogurt, cayenne, 1/2 teaspoon garam masala, and 1/2 teaspoon salt',\n",
       " 'Add shrimp, and toss to fully coat; set aside.',\n",
       " 'Preheat the oven to 350 degrees F (175 degrees C).',\n",
       " 'Heat 2 tablespoons of ghee over medium-high heat in a Dutch oven or large oven-safe nonstick saucepan',\n",
       " 'Add onion, and cook, stirring occasionally, until starting to soften, about 4 minutes',\n",
       " 'Add tomatoes, and cook, stirring occasionally, until they start to release liquid and soften, about 3 minutes',\n",
       " 'Add 1/2 teaspoon turmeric, remaining 2 teaspoons garam masala, remaining 1 teaspoon salt, remaining 1 teaspoon each garlic and ginger, and remaining 1/2 teaspoon coriander',\n",
       " 'Cook, stirring constantly, until fragrant, about 1 minute',\n",
       " 'Reduce heat to medium, and cook, stirring occasionally, until tomatoes have mostly broken down and mixture resembles a tomato sauce in texture, about 8 minutes.',\n",
       " 'Remove from heat, and add shrimp mixture, stirring constantly, until well combined',\n",
       " 'Stir in 1/4 cup cilantro and 1 tablespoon mint',\n",
       " 'Remove half (about 1 heaping cup) of the shrimp mixture from Dutch oven, and set aside in a medium bowl',\n",
       " 'Spread remaining shrimp mixture in the Dutch oven into an even layer',\n",
       " 'Add half (about 3 cups) of cooked rice mixture over shrimp mixture',\n",
       " 'Add reserved 1 heaping cup shrimp mixture over rice',\n",
       " 'Sprinkle with 2 tablespoons cilantro and 1/2 tablespoon mint',\n",
       " 'Add remaining rice mixture over shrimp mixture, and spread into an even layer.',\n",
       " 'Melt remaining 2 tablespoons ghee in a small bowl, and stir in remaining 1/2 teaspoon turmeric',\n",
       " 'Drizzle over rice mixture',\n",
       " 'Place a lid on Dutch oven.',\n",
       " 'Bake in the preheated oven until shrimp finishes cooking, 13 to 15 minutes',\n",
       " 'Remove from oven, and remove lid',\n",
       " 'Shrimp will be bright pink outside and meat will be opaque,',\n",
       " 'Top with remaining 2 tablespoons cilantro and 1/2 tablespoon mint',\n",
       " 'Top with fried onions and drizzle with melted ghee, as desired',\n",
       " 'Serve immediately.']"
      ]
     },
     "execution_count": 4,
     "metadata": {},
     "output_type": "execute_result"
    }
   ],
   "source": [
    "instructions"
   ]
  },
  {
   "cell_type": "code",
   "execution_count": 5,
   "metadata": {},
   "outputs": [
    {
     "data": {
      "text/plain": [
       "['Gather all ingredients.',\n",
       " 'Place rice in a large bowl, and cover with cold running water',\n",
       " 'Agitate with hands to release excess starch, and pour off water',\n",
       " 'Repeat process until water is mostly clear, 4 to 5 times.',\n",
       " 'Heat 4 tablespoons of the ghee in a medium saucepan over medium-high heat',\n",
       " 'Add 2 tablespoon garam masala, 4 teaspoons salt, 2 teaspoon each of grated garlic and ginger, and 1 teaspoon coriander',\n",
       " 'Cook, stirring constantly, until fragrant, about 1 minute',\n",
       " 'Add rice, and cook, stirring constantly, until rice is well coated in ghee and spices, 1 to 2 minutes.',\n",
       " 'Add 4.5 cups water, and stir',\n",
       " 'Bring to a boil over high heat',\n",
       " 'Stir, and cover with a tight-fitting lid',\n",
       " 'Reduce heat to medium-low',\n",
       " 'Simmer, undisturbed, until rice is just tender, about 12 minutes',\n",
       " 'Remove from heat, and remove lid',\n",
       " 'Fluff with a fork, and set aside.',\n",
       " 'Meanwhile, whisk together yogurt, cayenne, 1 teaspoon garam masala, and 1 teaspoon salt',\n",
       " 'Add shrimp, and toss to fully coat; set aside.',\n",
       " 'Preheat the oven to 350 degrees F (175 degrees C).',\n",
       " 'Heat 4 tablespoons of ghee over medium-high heat in a Dutch oven or large oven-safe nonstick saucepan',\n",
       " 'Add onion, and cook, stirring occasionally, until starting to soften, about 4 minutes',\n",
       " 'Add tomatoes, and cook, stirring occasionally, until they start to release liquid and soften, about 3 minutes',\n",
       " 'Add 1 teaspoon turmeric, remaining 4 teaspoons garam masala, remaining 2 teaspoon salt, remaining 2 teaspoon each garlic and ginger, and remaining 1 teaspoon coriander',\n",
       " 'Cook, stirring constantly, until fragrant, about 1 minute',\n",
       " 'Reduce heat to medium, and cook, stirring occasionally, until tomatoes have mostly broken down and mixture resembles a tomato sauce in texture, about 8 minutes.',\n",
       " 'Remove from heat, and add shrimp mixture, stirring constantly, until well combined',\n",
       " 'Stir in 0.5 cup cilantro and 2 tablespoon mint',\n",
       " 'Remove half (about 1 heaping cup) of the shrimp mixture from Dutch oven, and set aside in a medium bowl',\n",
       " 'Spread remaining shrimp mixture in the Dutch oven into an even layer',\n",
       " 'Add half (about 6 cups) of cooked rice mixture over shrimp mixture',\n",
       " 'Add reserved 1 heaping cup shrimp mixture over rice',\n",
       " 'Sprinkle with 4 tablespoons cilantro and 1 tablespoon mint',\n",
       " 'Add remaining rice mixture over shrimp mixture, and spread into an even layer.',\n",
       " 'Melt remaining 4 tablespoons ghee in a small bowl, and stir in remaining 1 teaspoon turmeric',\n",
       " 'Drizzle over rice mixture',\n",
       " 'Place a lid on Dutch oven.',\n",
       " 'Bake in the preheated oven until shrimp finishes cooking, 13 to 15 minutes',\n",
       " 'Remove from oven, and remove lid',\n",
       " 'Shrimp will be bright pink outside and meat will be opaque,',\n",
       " 'Top with remaining 4 tablespoons cilantro and 1 tablespoon mint',\n",
       " 'Top with fried onions and drizzle with melted ghee, as desired',\n",
       " 'Serve immediately.']"
      ]
     },
     "execution_count": 5,
     "metadata": {},
     "output_type": "execute_result"
    }
   ],
   "source": [
    "scale_instructions(ingredients, instructions, 2.0)"
   ]
  },
  {
   "cell_type": "code",
   "execution_count": 46,
   "metadata": {},
   "outputs": [
    {
     "name": "stdout",
     "output_type": "stream",
     "text": [
      "butter False\n",
      "ghee False\n",
      "olive oil False\n",
      "sesame oil False\n",
      "vegetable oil False\n",
      "bread False\n",
      "rice False\n",
      "noodles False\n",
      "couscous False\n",
      "polenta False\n",
      "flatbread False\n",
      "dumplings False\n",
      "wraps False\n",
      "potatoes False\n",
      "tofu False\n",
      "paneer False\n",
      "ground meat False\n",
      "chicken True\n",
      "fish False\n",
      "cheddar False\n",
      "parmesan False\n",
      "feta False\n",
      "mozzarella False\n",
      "cream False\n",
      "sour cream False\n",
      "yogurt False\n",
      "lemon juice False\n",
      "vinegar False\n",
      "balsamic vinegar False\n",
      "soy sauce False\n",
      "fish sauce False\n",
      "bell peppers False\n",
      "jalapeños False\n",
      "okra False\n",
      "bok choy False\n",
      "scallions False\n",
      "spinach False\n",
      "cilantro False\n",
      "mint False\n",
      "pickled vegetables False\n",
      "chutney False\n",
      "tortilla chips False\n",
      "croutons False\n",
      "herbes de provence False\n",
      "italian seasoning True\n",
      "basil False\n",
      "parsley False\n",
      "dill False\n",
      "sage False\n",
      "oregano False\n",
      "garam masala False\n",
      "cayenne pepper False\n",
      "paprika False\n",
      "chili powder False\n",
      "red pepper flakes False\n",
      "ground chili False\n",
      "salt False\n",
      "Worcestershire sauce False\n",
      "lemon zest False\n",
      "bay leaves False\n"
     ]
    },
    {
     "data": {
      "text/plain": [
       "'season shredded chicken breasts with tajín, garlic, and cumin.'"
      ]
     },
     "execution_count": 46,
     "metadata": {},
     "output_type": "execute_result"
    }
   ],
   "source": [
    "line = 'Season shredded chicken breasts with Tajín, garlic, and Italian seasoning.'\n",
    "line_lower = line.lower()\n",
    "for old_ing, new_ing in mexican_style['ingredients'].items():\n",
    "    print(old_ing, old_ing in line_lower)\n",
    "    if old_ing in line_lower:\n",
    "        line = line_lower.replace(old_ing, ' or '.join(new_ing))\n",
    "\n",
    "line"
   ]
  },
  {
   "cell_type": "code",
   "execution_count": 3,
   "metadata": {},
   "outputs": [
    {
     "data": {
      "text/plain": [
       "{'cod filets': ['tofu', 'seaweed-marinated tofu']}"
      ]
     },
     "execution_count": 3,
     "metadata": {},
     "output_type": "execute_result"
    }
   ],
   "source": [
    "alternatives = find_ingredients(ingredients, to_vegetarian)\n",
    "alternatives"
   ]
  },
  {
   "cell_type": "code",
   "execution_count": 4,
   "metadata": {},
   "outputs": [
    {
     "data": {
      "text/plain": [
       "[{'quantity': '3',\n",
       "  'unit': 'tablespoons',\n",
       "  'name': ' butter',\n",
       "  'descriptor': 'unsalted',\n",
       "  'preparation': 'softened'},\n",
       " {'quantity': '1',\n",
       "  'unit': 'tablespoon',\n",
       "  'name': ' garlic',\n",
       "  'preparation': 'finely minced',\n",
       "  'descriptor': 'fresh'},\n",
       " {'quantity': '1',\n",
       "  'unit': 'tablespoon',\n",
       "  'name': ' parsley',\n",
       "  'preparation': 'minced',\n",
       "  'descriptor': 'fresh'},\n",
       " {'quantity': '2',\n",
       "  'unit': 'teaspoons',\n",
       "  'name': ' oregano',\n",
       "  'preparation': 'minced',\n",
       "  'descriptor': 'fresh'},\n",
       " {'quantity': '1',\n",
       "  'unit': 'teaspoon',\n",
       "  'name': ' thyme',\n",
       "  'alternative': 'rosemary',\n",
       "  'preparation': 'minced',\n",
       "  'descriptor': 'fresh'},\n",
       " {'quantity': '1/2',\n",
       "  'unit': 'teaspoon',\n",
       "  'name': ' salt',\n",
       "  'alternative': 'to taste',\n",
       "  'preparation': 'finely ground',\n",
       "  'descriptor': 'pink'},\n",
       " {'quantity': '1/4',\n",
       "  'unit': 'teaspoon',\n",
       "  'name': ' pepper',\n",
       "  'preparation': 'freshly ground',\n",
       "  'descriptor': 'black'},\n",
       " {'quantity': '1/2', 'unit': 'teaspoon', 'name': ' paprika'},\n",
       " {'quantity': '4', 'unit': '(6 ounce)', 'name': 'tofu'},\n",
       " {'quantity': '2',\n",
       "  'name': ' lemons slices',\n",
       "  'preparation': 'cut',\n",
       "  'descriptor': 'thin'},\n",
       " {'quantity': '1',\n",
       "  'unit': 'tablespoon',\n",
       "  'name': ' olive oil',\n",
       "  'descriptor': 'extra virgin'},\n",
       " {'quantity': '4',\n",
       "  'unit': 'sprigs',\n",
       "  'name': ' parsley',\n",
       "  'descriptor': 'fresh garnish optional'}]"
      ]
     },
     "execution_count": 4,
     "metadata": {},
     "output_type": "execute_result"
    }
   ],
   "source": [
    "replace_ingredients(ingredients, alternatives)"
   ]
  },
  {
   "cell_type": "code",
   "execution_count": 5,
   "metadata": {},
   "outputs": [
    {
     "data": {
      "text/plain": [
       "[{'quantity': '3',\n",
       "  'unit': 'tablespoons',\n",
       "  'name': ' butter',\n",
       "  'descriptor': 'unsalted',\n",
       "  'preparation': 'softened'},\n",
       " {'quantity': '1',\n",
       "  'unit': 'tablespoon',\n",
       "  'name': ' garlic',\n",
       "  'preparation': 'finely minced',\n",
       "  'descriptor': 'fresh'},\n",
       " {'quantity': '1',\n",
       "  'unit': 'tablespoon',\n",
       "  'name': ' parsley',\n",
       "  'preparation': 'minced',\n",
       "  'descriptor': 'fresh'},\n",
       " {'quantity': '2',\n",
       "  'unit': 'teaspoons',\n",
       "  'name': ' oregano',\n",
       "  'preparation': 'minced',\n",
       "  'descriptor': 'fresh'},\n",
       " {'quantity': '1',\n",
       "  'unit': 'teaspoon',\n",
       "  'name': ' thyme',\n",
       "  'alternative': 'rosemary',\n",
       "  'preparation': 'minced',\n",
       "  'descriptor': 'fresh'},\n",
       " {'quantity': '1/2',\n",
       "  'unit': 'teaspoon',\n",
       "  'name': ' salt',\n",
       "  'alternative': 'to taste',\n",
       "  'preparation': 'finely ground',\n",
       "  'descriptor': 'pink'},\n",
       " {'quantity': '1/4',\n",
       "  'unit': 'teaspoon',\n",
       "  'name': ' pepper',\n",
       "  'preparation': 'freshly ground',\n",
       "  'descriptor': 'black'},\n",
       " {'quantity': '1/2', 'unit': 'teaspoon', 'name': ' paprika'},\n",
       " {'quantity': '4', 'unit': '(6 ounce)', 'name': ' cod filets'},\n",
       " {'quantity': '2',\n",
       "  'name': ' lemons slices',\n",
       "  'preparation': 'cut',\n",
       "  'descriptor': 'thin'},\n",
       " {'quantity': '1',\n",
       "  'unit': 'tablespoon',\n",
       "  'name': ' olive oil',\n",
       "  'descriptor': 'extra virgin'},\n",
       " {'quantity': '4',\n",
       "  'unit': 'sprigs',\n",
       "  'name': ' parsley',\n",
       "  'descriptor': 'fresh garnish optional'}]"
      ]
     },
     "execution_count": 5,
     "metadata": {},
     "output_type": "execute_result"
    }
   ],
   "source": [
    "ingredients"
   ]
  },
  {
   "cell_type": "code",
   "execution_count": 9,
   "metadata": {},
   "outputs": [
    {
     "data": {
      "text/plain": [
       "'Pat tofu or seaweed-marinated tofu filets dry'"
      ]
     },
     "execution_count": 9,
     "metadata": {},
     "output_type": "execute_result"
    }
   ],
   "source": [
    "line = \"Pat cod filets dry\"\n",
    "for old_ing, new_ing in to_vegetarian.items():\n",
    "    if old_ing in line.lower():\n",
    "        line = line.replace(old_ing, ' or '.join(new_ing))\n",
    "line"
   ]
  },
  {
   "cell_type": "code",
   "execution_count": 8,
   "metadata": {},
   "outputs": [],
   "source": [
    "from pyfood.utils import Shelf\n",
    "shelf = Shelf()"
   ]
  },
  {
   "cell_type": "code",
   "execution_count": 9,
   "metadata": {},
   "outputs": [
    {
     "name": "stdout",
     "output_type": "stream",
     "text": [
      "{'quantity': '3', 'unit': 'tablespoons', 'name': ' butter', 'descriptor': 'unsalted', 'preparation': 'softened'}\n",
      "{'ingredients': [{'foodname': 'butter', 'quantity': 100.0, 'unit': 'g', 'taxon': '201'}], 'HS': [], 'ingredients_by_taxon': [['butter']], 'labels': {'vegan': False, 'vege': True, 'seasonality': {'city': 'EU', 'score': 50, 'best_now': True}}, 'revisited': []}\n",
      "{'quantity': '1', 'unit': 'tablespoon', 'name': ' garlic', 'preparation': 'finely minced', 'descriptor': 'fresh'}\n",
      "{'ingredients': [{'foodname': 'garlic', 'quantity': 100.0, 'unit': 'g', 'taxon': '002'}], 'HS': [], 'ingredients_by_taxon': [['garlic']], 'labels': {'vegan': True, 'vege': True, 'seasonality': {'city': 'EU', 'score': 100, 'best_now': True}}, 'revisited': []}\n",
      "{'quantity': '1', 'unit': 'tablespoon', 'name': ' parsley', 'preparation': 'minced', 'descriptor': 'fresh'}\n",
      "{'ingredients': [{'foodname': 'parsley', 'quantity': 100.0, 'unit': 'g', 'taxon': '008'}], 'HS': [], 'ingredients_by_taxon': [['parsley']], 'labels': {'vegan': True, 'vege': True, 'seasonality': {'city': 'EU', 'score': 100, 'best_now': True}}, 'revisited': []}\n",
      "{'quantity': '2', 'unit': 'teaspoons', 'name': ' oregano', 'preparation': 'minced', 'descriptor': 'fresh'}\n",
      "{'ingredients': [], 'HS': ['oregano'], 'ingredients_by_taxon': [], 'labels': {'vegan': True, 'vege': True, 'seasonality': {'city': 'EU', 'score': 0, 'best_now': False}}, 'revisited': []}\n",
      "{'quantity': '1', 'unit': 'teaspoon', 'name': ' thyme', 'alternative': 'rosemary', 'preparation': 'minced', 'descriptor': 'fresh'}\n",
      "{'ingredients': [], 'HS': ['thyme'], 'ingredients_by_taxon': [], 'labels': {'vegan': True, 'vege': True, 'seasonality': {'city': 'EU', 'score': 0, 'best_now': False}}, 'revisited': []}\n",
      "{'quantity': '1/2', 'unit': 'teaspoon', 'name': ' salt', 'alternative': 'to taste', 'preparation': 'finely ground', 'descriptor': 'pink'}\n",
      "{'ingredients': [{'foodname': 'salt', 'quantity': 100.0, 'unit': 'g', 'taxon': '101'}], 'HS': [], 'ingredients_by_taxon': [['salt']], 'labels': {'vegan': True, 'vege': True, 'seasonality': {'city': 'EU', 'score': 50, 'best_now': True}}, 'revisited': []}\n",
      "{'quantity': '1/4', 'unit': 'teaspoon', 'name': ' pepper', 'preparation': 'freshly ground', 'descriptor': 'black'}\n",
      "{'ingredients': [{'foodname': 'pepper', 'quantity': 100.0, 'unit': 'g', 'taxon': '101'}], 'HS': [], 'ingredients_by_taxon': [['pepper']], 'labels': {'vegan': True, 'vege': True, 'seasonality': {'city': 'EU', 'score': 50, 'best_now': True}}, 'revisited': []}\n",
      "{'quantity': '1/2', 'unit': 'teaspoon', 'name': ' paprika'}\n",
      "{'ingredients': [{'foodname': 'paprika', 'quantity': 100.0, 'unit': 'g', 'taxon': '101'}], 'HS': [], 'ingredients_by_taxon': [['paprika']], 'labels': {'vegan': True, 'vege': True, 'seasonality': {'city': 'EU', 'score': 50, 'best_now': True}}, 'revisited': []}\n",
      "{'quantity': '4', 'unit': '(6 ounce)', 'name': ' cod filets'}\n"
     ]
    },
    {
     "ename": "NotFittedError",
     "evalue": "This TfidfTransformer instance is not fitted yet. Call 'fit' with appropriate arguments before using this estimator.",
     "output_type": "error",
     "traceback": [
      "\u001b[1;31m---------------------------------------------------------------------------\u001b[0m",
      "\u001b[1;31mNotFittedError\u001b[0m                            Traceback (most recent call last)",
      "Cell \u001b[1;32mIn[9], line 3\u001b[0m\n\u001b[0;32m      1\u001b[0m \u001b[38;5;28;01mfor\u001b[39;00m i \u001b[38;5;129;01min\u001b[39;00m ingredients:\n\u001b[0;32m      2\u001b[0m     \u001b[38;5;28mprint\u001b[39m(i)\n\u001b[1;32m----> 3\u001b[0m     \u001b[38;5;28mprint\u001b[39m(\u001b[43mshelf\u001b[49m\u001b[38;5;241;43m.\u001b[39;49m\u001b[43mprocess_ingredients\u001b[49m\u001b[43m(\u001b[49m\u001b[43m[\u001b[49m\u001b[43mi\u001b[49m\u001b[43m[\u001b[49m\u001b[38;5;124;43m'\u001b[39;49m\u001b[38;5;124;43mname\u001b[39;49m\u001b[38;5;124;43m'\u001b[39;49m\u001b[43m]\u001b[49m\u001b[43m \u001b[49m\u001b[38;5;241;43m+\u001b[39;49m\u001b[43m \u001b[49m\u001b[43mi\u001b[49m\u001b[43m[\u001b[49m\u001b[38;5;124;43m'\u001b[39;49m\u001b[38;5;124;43mdescriptor\u001b[39;49m\u001b[38;5;124;43m'\u001b[39;49m\u001b[43m]\u001b[49m\u001b[43m \u001b[49m\u001b[38;5;28;43;01mif\u001b[39;49;00m\u001b[43m \u001b[49m\u001b[38;5;124;43m'\u001b[39;49m\u001b[38;5;124;43mdiscriptor\u001b[39;49m\u001b[38;5;124;43m'\u001b[39;49m\u001b[43m \u001b[49m\u001b[38;5;129;43;01min\u001b[39;49;00m\u001b[43m \u001b[49m\u001b[43mi\u001b[49m\u001b[38;5;241;43m.\u001b[39;49m\u001b[43mkeys\u001b[49m\u001b[43m(\u001b[49m\u001b[43m)\u001b[49m\u001b[43m \u001b[49m\u001b[38;5;28;43;01melse\u001b[39;49;00m\u001b[43m \u001b[49m\u001b[43mi\u001b[49m\u001b[43m[\u001b[49m\u001b[38;5;124;43m'\u001b[39;49m\u001b[38;5;124;43mname\u001b[39;49m\u001b[38;5;124;43m'\u001b[39;49m\u001b[43m]\u001b[49m\u001b[43m]\u001b[49m\u001b[43m)\u001b[49m)\n",
      "File \u001b[1;32mc:\\Users\\rockm\\anaconda3\\envs\\recipe3\\lib\\site-packages\\pyfood\\utils.py:408\u001b[0m, in \u001b[0;36mShelf.process_ingredients\u001b[1;34m(self, food_list, qty_list, unit_list, lang_dest, revisit, infer_nutri, serving)\u001b[0m\n\u001b[0;32m    382\u001b[0m \u001b[38;5;250m\u001b[39m\u001b[38;5;124;03m\"\"\"Labels a list of ingredients, e.g., from a recipe or a basket of food, and saves attributes / labels in self.tags\u001b[39;00m\n\u001b[0;32m    383\u001b[0m \n\u001b[0;32m    384\u001b[0m \u001b[38;5;124;03mParameters\u001b[39;00m\n\u001b[1;32m   (...)\u001b[0m\n\u001b[0;32m    404\u001b[0m \u001b[38;5;124;03m    Extracted ingredients (ingredients_by_taxon, HS, revisited), predicted nutrition (allergies, energy, macro, minerals, vitamines) and labels (vege, vegan, seasonality)\u001b[39;00m\n\u001b[0;32m    405\u001b[0m \u001b[38;5;124;03m\"\"\"\u001b[39;00m\n\u001b[0;32m    407\u001b[0m \u001b[38;5;66;03m# read recipe\u001b[39;00m\n\u001b[1;32m--> 408\u001b[0m my_recipe_vector, foodnames, qties, unit_list, taxons, HS, HS_id \u001b[38;5;241m=\u001b[39m \u001b[38;5;28;43mself\u001b[39;49m\u001b[38;5;241;43m.\u001b[39;49m\u001b[43mNER\u001b[49m\u001b[43m(\u001b[49m\n\u001b[0;32m    409\u001b[0m \u001b[43m    \u001b[49m\u001b[43mfood_list\u001b[49m\u001b[38;5;241;43m=\u001b[39;49m\u001b[43mfood_list\u001b[49m\u001b[43m,\u001b[49m\n\u001b[0;32m    410\u001b[0m \u001b[43m    \u001b[49m\u001b[43mqty_list\u001b[49m\u001b[38;5;241;43m=\u001b[39;49m\u001b[43mqty_list\u001b[49m\u001b[43m,\u001b[49m\n\u001b[0;32m    411\u001b[0m \u001b[43m    \u001b[49m\u001b[43munit_list\u001b[49m\u001b[38;5;241;43m=\u001b[39;49m\u001b[43munit_list\u001b[49m\u001b[43m,\u001b[49m\n\u001b[0;32m    412\u001b[0m \u001b[43m    \u001b[49m\u001b[43mlang_dest\u001b[49m\u001b[38;5;241;43m=\u001b[39;49m\u001b[43mlang_dest\u001b[49m\u001b[43m,\u001b[49m\n\u001b[0;32m    413\u001b[0m \u001b[43m\u001b[49m\u001b[43m)\u001b[49m  \u001b[38;5;66;03m# map ingredients to basket of food\u001b[39;00m\n\u001b[0;32m    414\u001b[0m \u001b[38;5;28mself\u001b[39m\u001b[38;5;241m.\u001b[39mtags \u001b[38;5;241m=\u001b[39m {}  \u001b[38;5;66;03m# init tags\u001b[39;00m\n\u001b[0;32m    415\u001b[0m \u001b[38;5;28mself\u001b[39m\u001b[38;5;241m.\u001b[39mtags[\u001b[38;5;124m\"\u001b[39m\u001b[38;5;124mingredients\u001b[39m\u001b[38;5;124m\"\u001b[39m] \u001b[38;5;241m=\u001b[39m lists2object(\n\u001b[0;32m    416\u001b[0m     foodnames, qties, unit_list, taxons\n\u001b[0;32m    417\u001b[0m )  \u001b[38;5;66;03m# seasonal and vege ingedients\u001b[39;00m\n",
      "File \u001b[1;32mc:\\Users\\rockm\\anaconda3\\envs\\recipe3\\lib\\site-packages\\pyfood\\utils.py:352\u001b[0m, in \u001b[0;36mShelf.NER\u001b[1;34m(self, food_list, qty_list, unit_list, lang_dest, filter_HS)\u001b[0m\n\u001b[0;32m    349\u001b[0m HS, HS_id \u001b[38;5;241m=\u001b[39m [], []  \u001b[38;5;66;03m# hors saison\u001b[39;00m\n\u001b[0;32m    351\u001b[0m \u001b[38;5;28;01mfor\u001b[39;00m (food_, qty_, unit_) \u001b[38;5;129;01min\u001b[39;00m \u001b[38;5;28mzip\u001b[39m(food_list, qty_list, unit_list):  \u001b[38;5;66;03m# ingredients\u001b[39;00m\n\u001b[1;32m--> 352\u001b[0m     food_, fid, taxon, score \u001b[38;5;241m=\u001b[39m \u001b[38;5;28;43mself\u001b[39;49m\u001b[38;5;241;43m.\u001b[39;49m\u001b[43mtext2food\u001b[49m\u001b[43m(\u001b[49m\u001b[43mfood_name\u001b[49m\u001b[38;5;241;43m=\u001b[39;49m\u001b[43mfood_\u001b[49m\u001b[43m)\u001b[49m\n\u001b[0;32m    353\u001b[0m     \u001b[38;5;28;01mif\u001b[39;00m fid \u001b[38;5;129;01mis\u001b[39;00m \u001b[38;5;129;01mnot\u001b[39;00m \u001b[38;5;28;01mNone\u001b[39;00m:  \u001b[38;5;66;03m# food_ is in food vocab\u001b[39;00m\n\u001b[0;32m    354\u001b[0m         \u001b[38;5;28;01mif\u001b[39;00m lang_dest \u001b[38;5;241m!=\u001b[39m \u001b[38;5;28mself\u001b[39m\u001b[38;5;241m.\u001b[39mlang_source:\n",
      "File \u001b[1;32mc:\\Users\\rockm\\anaconda3\\envs\\recipe3\\lib\\site-packages\\pyfood\\utils.py:247\u001b[0m, in \u001b[0;36mShelf.text2food\u001b[1;34m(self, food_name, threshold)\u001b[0m\n\u001b[0;32m    244\u001b[0m candidates \u001b[38;5;241m=\u001b[39m \u001b[38;5;28mlist\u001b[39m(\u001b[38;5;28mset\u001b[39m(candidates))  \u001b[38;5;66;03m# remove duplicate ngrams\u001b[39;00m\n\u001b[0;32m    245\u001b[0m penalty \u001b[38;5;241m=\u001b[39m np\u001b[38;5;241m.\u001b[39marray([[\u001b[38;5;28mlen\u001b[39m(c) \u001b[38;5;241m/\u001b[39m \u001b[38;5;28mlen\u001b[39m(food_name)] \u001b[38;5;28;01mfor\u001b[39;00m c \u001b[38;5;129;01min\u001b[39;00m candidates])\n\u001b[0;32m    246\u001b[0m affinity \u001b[38;5;241m=\u001b[39m penalty \u001b[38;5;241m*\u001b[39m cosine_similarity(\n\u001b[1;32m--> 247\u001b[0m     \u001b[38;5;28;43mself\u001b[39;49m\u001b[38;5;241;43m.\u001b[39;49m\u001b[43mtfidf\u001b[49m\u001b[38;5;241;43m.\u001b[39;49m\u001b[43mtransform\u001b[49m\u001b[43m(\u001b[49m\u001b[43mcandidates\u001b[49m\u001b[43m)\u001b[49m, \u001b[38;5;28mself\u001b[39m\u001b[38;5;241m.\u001b[39mngrams, dense_output\u001b[38;5;241m=\u001b[39m\u001b[38;5;28;01mTrue\u001b[39;00m\n\u001b[0;32m    248\u001b[0m )  \u001b[38;5;66;03m# (len(candidates), n_ingredients)\u001b[39;00m\n\u001b[0;32m    249\u001b[0m neighbors_id \u001b[38;5;241m=\u001b[39m np\u001b[38;5;241m.\u001b[39margmax(affinity, axis\u001b[38;5;241m=\u001b[39m\u001b[38;5;241m1\u001b[39m)\n\u001b[0;32m    250\u001b[0m values \u001b[38;5;241m=\u001b[39m np\u001b[38;5;241m.\u001b[39marray([affinity[i][j] \u001b[38;5;28;01mfor\u001b[39;00m i, j \u001b[38;5;129;01min\u001b[39;00m \u001b[38;5;28menumerate\u001b[39m(neighbors_id)])\n",
      "File \u001b[1;32mc:\\Users\\rockm\\anaconda3\\envs\\recipe3\\lib\\site-packages\\sklearn\\feature_extraction\\text.py:2116\u001b[0m, in \u001b[0;36mTfidfVectorizer.transform\u001b[1;34m(self, raw_documents)\u001b[0m\n\u001b[0;32m   2113\u001b[0m check_is_fitted(\u001b[38;5;28mself\u001b[39m, msg\u001b[38;5;241m=\u001b[39m\u001b[38;5;124m\"\u001b[39m\u001b[38;5;124mThe TF-IDF vectorizer is not fitted\u001b[39m\u001b[38;5;124m\"\u001b[39m)\n\u001b[0;32m   2115\u001b[0m X \u001b[38;5;241m=\u001b[39m \u001b[38;5;28msuper\u001b[39m()\u001b[38;5;241m.\u001b[39mtransform(raw_documents)\n\u001b[1;32m-> 2116\u001b[0m \u001b[38;5;28;01mreturn\u001b[39;00m \u001b[38;5;28;43mself\u001b[39;49m\u001b[38;5;241;43m.\u001b[39;49m\u001b[43m_tfidf\u001b[49m\u001b[38;5;241;43m.\u001b[39;49m\u001b[43mtransform\u001b[49m\u001b[43m(\u001b[49m\u001b[43mX\u001b[49m\u001b[43m,\u001b[49m\u001b[43m \u001b[49m\u001b[43mcopy\u001b[49m\u001b[38;5;241;43m=\u001b[39;49m\u001b[38;5;28;43;01mFalse\u001b[39;49;00m\u001b[43m)\u001b[49m\n",
      "File \u001b[1;32mc:\\Users\\rockm\\anaconda3\\envs\\recipe3\\lib\\site-packages\\sklearn\\feature_extraction\\text.py:1687\u001b[0m, in \u001b[0;36mTfidfTransformer.transform\u001b[1;34m(self, X, copy)\u001b[0m\n\u001b[0;32m   1670\u001b[0m \u001b[38;5;28;01mdef\u001b[39;00m \u001b[38;5;21mtransform\u001b[39m(\u001b[38;5;28mself\u001b[39m, X, copy\u001b[38;5;241m=\u001b[39m\u001b[38;5;28;01mTrue\u001b[39;00m):\n\u001b[0;32m   1671\u001b[0m \u001b[38;5;250m    \u001b[39m\u001b[38;5;124;03m\"\"\"Transform a count matrix to a tf or tf-idf representation.\u001b[39;00m\n\u001b[0;32m   1672\u001b[0m \n\u001b[0;32m   1673\u001b[0m \u001b[38;5;124;03m    Parameters\u001b[39;00m\n\u001b[1;32m   (...)\u001b[0m\n\u001b[0;32m   1685\u001b[0m \u001b[38;5;124;03m        Tf-idf-weighted document-term matrix.\u001b[39;00m\n\u001b[0;32m   1686\u001b[0m \u001b[38;5;124;03m    \"\"\"\u001b[39;00m\n\u001b[1;32m-> 1687\u001b[0m     \u001b[43mcheck_is_fitted\u001b[49m\u001b[43m(\u001b[49m\u001b[38;5;28;43mself\u001b[39;49m\u001b[43m)\u001b[49m\n\u001b[0;32m   1688\u001b[0m     X \u001b[38;5;241m=\u001b[39m \u001b[38;5;28mself\u001b[39m\u001b[38;5;241m.\u001b[39m_validate_data(\n\u001b[0;32m   1689\u001b[0m         X,\n\u001b[0;32m   1690\u001b[0m         accept_sparse\u001b[38;5;241m=\u001b[39m\u001b[38;5;124m\"\u001b[39m\u001b[38;5;124mcsr\u001b[39m\u001b[38;5;124m\"\u001b[39m,\n\u001b[1;32m   (...)\u001b[0m\n\u001b[0;32m   1693\u001b[0m         reset\u001b[38;5;241m=\u001b[39m\u001b[38;5;28;01mFalse\u001b[39;00m,\n\u001b[0;32m   1694\u001b[0m     )\n\u001b[0;32m   1695\u001b[0m     \u001b[38;5;28;01mif\u001b[39;00m \u001b[38;5;129;01mnot\u001b[39;00m sp\u001b[38;5;241m.\u001b[39missparse(X):\n",
      "File \u001b[1;32mc:\\Users\\rockm\\anaconda3\\envs\\recipe3\\lib\\site-packages\\sklearn\\utils\\validation.py:1661\u001b[0m, in \u001b[0;36mcheck_is_fitted\u001b[1;34m(estimator, attributes, msg, all_or_any)\u001b[0m\n\u001b[0;32m   1658\u001b[0m     \u001b[38;5;28;01mraise\u001b[39;00m \u001b[38;5;167;01mTypeError\u001b[39;00m(\u001b[38;5;124m\"\u001b[39m\u001b[38;5;132;01m%s\u001b[39;00m\u001b[38;5;124m is not an estimator instance.\u001b[39m\u001b[38;5;124m\"\u001b[39m \u001b[38;5;241m%\u001b[39m (estimator))\n\u001b[0;32m   1660\u001b[0m \u001b[38;5;28;01mif\u001b[39;00m \u001b[38;5;129;01mnot\u001b[39;00m _is_fitted(estimator, attributes, all_or_any):\n\u001b[1;32m-> 1661\u001b[0m     \u001b[38;5;28;01mraise\u001b[39;00m NotFittedError(msg \u001b[38;5;241m%\u001b[39m {\u001b[38;5;124m\"\u001b[39m\u001b[38;5;124mname\u001b[39m\u001b[38;5;124m\"\u001b[39m: \u001b[38;5;28mtype\u001b[39m(estimator)\u001b[38;5;241m.\u001b[39m\u001b[38;5;18m__name__\u001b[39m})\n",
      "\u001b[1;31mNotFittedError\u001b[0m: This TfidfTransformer instance is not fitted yet. Call 'fit' with appropriate arguments before using this estimator."
     ]
    }
   ],
   "source": [
    "for i in ingredients:\n",
    "    print(i)\n",
    "    print(shelf.process_ingredients([i['name'] + i['descriptor'] if 'discriptor' in i.keys() else i['name']]))"
   ]
  },
  {
   "cell_type": "code",
   "execution_count": 10,
   "metadata": {},
   "outputs": [
    {
     "ename": "NotFittedError",
     "evalue": "This TfidfTransformer instance is not fitted yet. Call 'fit' with appropriate arguments before using this estimator.",
     "output_type": "error",
     "traceback": [
      "\u001b[1;31m---------------------------------------------------------------------------\u001b[0m",
      "\u001b[1;31mNotFittedError\u001b[0m                            Traceback (most recent call last)",
      "Cell \u001b[1;32mIn[10], line 1\u001b[0m\n\u001b[1;32m----> 1\u001b[0m \u001b[43mshelf\u001b[49m\u001b[38;5;241;43m.\u001b[39;49m\u001b[43mprocess_ingredients\u001b[49m\u001b[43m(\u001b[49m\u001b[43m[\u001b[49m\u001b[38;5;124;43m'\u001b[39;49m\u001b[38;5;124;43mcod filet\u001b[39;49m\u001b[38;5;124;43m'\u001b[39;49m\u001b[43m]\u001b[49m\u001b[43m)\u001b[49m\n",
      "File \u001b[1;32mc:\\Users\\rockm\\anaconda3\\envs\\recipe3\\lib\\site-packages\\pyfood\\utils.py:408\u001b[0m, in \u001b[0;36mShelf.process_ingredients\u001b[1;34m(self, food_list, qty_list, unit_list, lang_dest, revisit, infer_nutri, serving)\u001b[0m\n\u001b[0;32m    382\u001b[0m \u001b[38;5;250m\u001b[39m\u001b[38;5;124;03m\"\"\"Labels a list of ingredients, e.g., from a recipe or a basket of food, and saves attributes / labels in self.tags\u001b[39;00m\n\u001b[0;32m    383\u001b[0m \n\u001b[0;32m    384\u001b[0m \u001b[38;5;124;03mParameters\u001b[39;00m\n\u001b[1;32m   (...)\u001b[0m\n\u001b[0;32m    404\u001b[0m \u001b[38;5;124;03m    Extracted ingredients (ingredients_by_taxon, HS, revisited), predicted nutrition (allergies, energy, macro, minerals, vitamines) and labels (vege, vegan, seasonality)\u001b[39;00m\n\u001b[0;32m    405\u001b[0m \u001b[38;5;124;03m\"\"\"\u001b[39;00m\n\u001b[0;32m    407\u001b[0m \u001b[38;5;66;03m# read recipe\u001b[39;00m\n\u001b[1;32m--> 408\u001b[0m my_recipe_vector, foodnames, qties, unit_list, taxons, HS, HS_id \u001b[38;5;241m=\u001b[39m \u001b[38;5;28;43mself\u001b[39;49m\u001b[38;5;241;43m.\u001b[39;49m\u001b[43mNER\u001b[49m\u001b[43m(\u001b[49m\n\u001b[0;32m    409\u001b[0m \u001b[43m    \u001b[49m\u001b[43mfood_list\u001b[49m\u001b[38;5;241;43m=\u001b[39;49m\u001b[43mfood_list\u001b[49m\u001b[43m,\u001b[49m\n\u001b[0;32m    410\u001b[0m \u001b[43m    \u001b[49m\u001b[43mqty_list\u001b[49m\u001b[38;5;241;43m=\u001b[39;49m\u001b[43mqty_list\u001b[49m\u001b[43m,\u001b[49m\n\u001b[0;32m    411\u001b[0m \u001b[43m    \u001b[49m\u001b[43munit_list\u001b[49m\u001b[38;5;241;43m=\u001b[39;49m\u001b[43munit_list\u001b[49m\u001b[43m,\u001b[49m\n\u001b[0;32m    412\u001b[0m \u001b[43m    \u001b[49m\u001b[43mlang_dest\u001b[49m\u001b[38;5;241;43m=\u001b[39;49m\u001b[43mlang_dest\u001b[49m\u001b[43m,\u001b[49m\n\u001b[0;32m    413\u001b[0m \u001b[43m\u001b[49m\u001b[43m)\u001b[49m  \u001b[38;5;66;03m# map ingredients to basket of food\u001b[39;00m\n\u001b[0;32m    414\u001b[0m \u001b[38;5;28mself\u001b[39m\u001b[38;5;241m.\u001b[39mtags \u001b[38;5;241m=\u001b[39m {}  \u001b[38;5;66;03m# init tags\u001b[39;00m\n\u001b[0;32m    415\u001b[0m \u001b[38;5;28mself\u001b[39m\u001b[38;5;241m.\u001b[39mtags[\u001b[38;5;124m\"\u001b[39m\u001b[38;5;124mingredients\u001b[39m\u001b[38;5;124m\"\u001b[39m] \u001b[38;5;241m=\u001b[39m lists2object(\n\u001b[0;32m    416\u001b[0m     foodnames, qties, unit_list, taxons\n\u001b[0;32m    417\u001b[0m )  \u001b[38;5;66;03m# seasonal and vege ingedients\u001b[39;00m\n",
      "File \u001b[1;32mc:\\Users\\rockm\\anaconda3\\envs\\recipe3\\lib\\site-packages\\pyfood\\utils.py:352\u001b[0m, in \u001b[0;36mShelf.NER\u001b[1;34m(self, food_list, qty_list, unit_list, lang_dest, filter_HS)\u001b[0m\n\u001b[0;32m    349\u001b[0m HS, HS_id \u001b[38;5;241m=\u001b[39m [], []  \u001b[38;5;66;03m# hors saison\u001b[39;00m\n\u001b[0;32m    351\u001b[0m \u001b[38;5;28;01mfor\u001b[39;00m (food_, qty_, unit_) \u001b[38;5;129;01min\u001b[39;00m \u001b[38;5;28mzip\u001b[39m(food_list, qty_list, unit_list):  \u001b[38;5;66;03m# ingredients\u001b[39;00m\n\u001b[1;32m--> 352\u001b[0m     food_, fid, taxon, score \u001b[38;5;241m=\u001b[39m \u001b[38;5;28;43mself\u001b[39;49m\u001b[38;5;241;43m.\u001b[39;49m\u001b[43mtext2food\u001b[49m\u001b[43m(\u001b[49m\u001b[43mfood_name\u001b[49m\u001b[38;5;241;43m=\u001b[39;49m\u001b[43mfood_\u001b[49m\u001b[43m)\u001b[49m\n\u001b[0;32m    353\u001b[0m     \u001b[38;5;28;01mif\u001b[39;00m fid \u001b[38;5;129;01mis\u001b[39;00m \u001b[38;5;129;01mnot\u001b[39;00m \u001b[38;5;28;01mNone\u001b[39;00m:  \u001b[38;5;66;03m# food_ is in food vocab\u001b[39;00m\n\u001b[0;32m    354\u001b[0m         \u001b[38;5;28;01mif\u001b[39;00m lang_dest \u001b[38;5;241m!=\u001b[39m \u001b[38;5;28mself\u001b[39m\u001b[38;5;241m.\u001b[39mlang_source:\n",
      "File \u001b[1;32mc:\\Users\\rockm\\anaconda3\\envs\\recipe3\\lib\\site-packages\\pyfood\\utils.py:247\u001b[0m, in \u001b[0;36mShelf.text2food\u001b[1;34m(self, food_name, threshold)\u001b[0m\n\u001b[0;32m    244\u001b[0m candidates \u001b[38;5;241m=\u001b[39m \u001b[38;5;28mlist\u001b[39m(\u001b[38;5;28mset\u001b[39m(candidates))  \u001b[38;5;66;03m# remove duplicate ngrams\u001b[39;00m\n\u001b[0;32m    245\u001b[0m penalty \u001b[38;5;241m=\u001b[39m np\u001b[38;5;241m.\u001b[39marray([[\u001b[38;5;28mlen\u001b[39m(c) \u001b[38;5;241m/\u001b[39m \u001b[38;5;28mlen\u001b[39m(food_name)] \u001b[38;5;28;01mfor\u001b[39;00m c \u001b[38;5;129;01min\u001b[39;00m candidates])\n\u001b[0;32m    246\u001b[0m affinity \u001b[38;5;241m=\u001b[39m penalty \u001b[38;5;241m*\u001b[39m cosine_similarity(\n\u001b[1;32m--> 247\u001b[0m     \u001b[38;5;28;43mself\u001b[39;49m\u001b[38;5;241;43m.\u001b[39;49m\u001b[43mtfidf\u001b[49m\u001b[38;5;241;43m.\u001b[39;49m\u001b[43mtransform\u001b[49m\u001b[43m(\u001b[49m\u001b[43mcandidates\u001b[49m\u001b[43m)\u001b[49m, \u001b[38;5;28mself\u001b[39m\u001b[38;5;241m.\u001b[39mngrams, dense_output\u001b[38;5;241m=\u001b[39m\u001b[38;5;28;01mTrue\u001b[39;00m\n\u001b[0;32m    248\u001b[0m )  \u001b[38;5;66;03m# (len(candidates), n_ingredients)\u001b[39;00m\n\u001b[0;32m    249\u001b[0m neighbors_id \u001b[38;5;241m=\u001b[39m np\u001b[38;5;241m.\u001b[39margmax(affinity, axis\u001b[38;5;241m=\u001b[39m\u001b[38;5;241m1\u001b[39m)\n\u001b[0;32m    250\u001b[0m values \u001b[38;5;241m=\u001b[39m np\u001b[38;5;241m.\u001b[39marray([affinity[i][j] \u001b[38;5;28;01mfor\u001b[39;00m i, j \u001b[38;5;129;01min\u001b[39;00m \u001b[38;5;28menumerate\u001b[39m(neighbors_id)])\n",
      "File \u001b[1;32mc:\\Users\\rockm\\anaconda3\\envs\\recipe3\\lib\\site-packages\\sklearn\\feature_extraction\\text.py:2116\u001b[0m, in \u001b[0;36mTfidfVectorizer.transform\u001b[1;34m(self, raw_documents)\u001b[0m\n\u001b[0;32m   2113\u001b[0m check_is_fitted(\u001b[38;5;28mself\u001b[39m, msg\u001b[38;5;241m=\u001b[39m\u001b[38;5;124m\"\u001b[39m\u001b[38;5;124mThe TF-IDF vectorizer is not fitted\u001b[39m\u001b[38;5;124m\"\u001b[39m)\n\u001b[0;32m   2115\u001b[0m X \u001b[38;5;241m=\u001b[39m \u001b[38;5;28msuper\u001b[39m()\u001b[38;5;241m.\u001b[39mtransform(raw_documents)\n\u001b[1;32m-> 2116\u001b[0m \u001b[38;5;28;01mreturn\u001b[39;00m \u001b[38;5;28;43mself\u001b[39;49m\u001b[38;5;241;43m.\u001b[39;49m\u001b[43m_tfidf\u001b[49m\u001b[38;5;241;43m.\u001b[39;49m\u001b[43mtransform\u001b[49m\u001b[43m(\u001b[49m\u001b[43mX\u001b[49m\u001b[43m,\u001b[49m\u001b[43m \u001b[49m\u001b[43mcopy\u001b[49m\u001b[38;5;241;43m=\u001b[39;49m\u001b[38;5;28;43;01mFalse\u001b[39;49;00m\u001b[43m)\u001b[49m\n",
      "File \u001b[1;32mc:\\Users\\rockm\\anaconda3\\envs\\recipe3\\lib\\site-packages\\sklearn\\feature_extraction\\text.py:1687\u001b[0m, in \u001b[0;36mTfidfTransformer.transform\u001b[1;34m(self, X, copy)\u001b[0m\n\u001b[0;32m   1670\u001b[0m \u001b[38;5;28;01mdef\u001b[39;00m \u001b[38;5;21mtransform\u001b[39m(\u001b[38;5;28mself\u001b[39m, X, copy\u001b[38;5;241m=\u001b[39m\u001b[38;5;28;01mTrue\u001b[39;00m):\n\u001b[0;32m   1671\u001b[0m \u001b[38;5;250m    \u001b[39m\u001b[38;5;124;03m\"\"\"Transform a count matrix to a tf or tf-idf representation.\u001b[39;00m\n\u001b[0;32m   1672\u001b[0m \n\u001b[0;32m   1673\u001b[0m \u001b[38;5;124;03m    Parameters\u001b[39;00m\n\u001b[1;32m   (...)\u001b[0m\n\u001b[0;32m   1685\u001b[0m \u001b[38;5;124;03m        Tf-idf-weighted document-term matrix.\u001b[39;00m\n\u001b[0;32m   1686\u001b[0m \u001b[38;5;124;03m    \"\"\"\u001b[39;00m\n\u001b[1;32m-> 1687\u001b[0m     \u001b[43mcheck_is_fitted\u001b[49m\u001b[43m(\u001b[49m\u001b[38;5;28;43mself\u001b[39;49m\u001b[43m)\u001b[49m\n\u001b[0;32m   1688\u001b[0m     X \u001b[38;5;241m=\u001b[39m \u001b[38;5;28mself\u001b[39m\u001b[38;5;241m.\u001b[39m_validate_data(\n\u001b[0;32m   1689\u001b[0m         X,\n\u001b[0;32m   1690\u001b[0m         accept_sparse\u001b[38;5;241m=\u001b[39m\u001b[38;5;124m\"\u001b[39m\u001b[38;5;124mcsr\u001b[39m\u001b[38;5;124m\"\u001b[39m,\n\u001b[1;32m   (...)\u001b[0m\n\u001b[0;32m   1693\u001b[0m         reset\u001b[38;5;241m=\u001b[39m\u001b[38;5;28;01mFalse\u001b[39;00m,\n\u001b[0;32m   1694\u001b[0m     )\n\u001b[0;32m   1695\u001b[0m     \u001b[38;5;28;01mif\u001b[39;00m \u001b[38;5;129;01mnot\u001b[39;00m sp\u001b[38;5;241m.\u001b[39missparse(X):\n",
      "File \u001b[1;32mc:\\Users\\rockm\\anaconda3\\envs\\recipe3\\lib\\site-packages\\sklearn\\utils\\validation.py:1661\u001b[0m, in \u001b[0;36mcheck_is_fitted\u001b[1;34m(estimator, attributes, msg, all_or_any)\u001b[0m\n\u001b[0;32m   1658\u001b[0m     \u001b[38;5;28;01mraise\u001b[39;00m \u001b[38;5;167;01mTypeError\u001b[39;00m(\u001b[38;5;124m\"\u001b[39m\u001b[38;5;132;01m%s\u001b[39;00m\u001b[38;5;124m is not an estimator instance.\u001b[39m\u001b[38;5;124m\"\u001b[39m \u001b[38;5;241m%\u001b[39m (estimator))\n\u001b[0;32m   1660\u001b[0m \u001b[38;5;28;01mif\u001b[39;00m \u001b[38;5;129;01mnot\u001b[39;00m _is_fitted(estimator, attributes, all_or_any):\n\u001b[1;32m-> 1661\u001b[0m     \u001b[38;5;28;01mraise\u001b[39;00m NotFittedError(msg \u001b[38;5;241m%\u001b[39m {\u001b[38;5;124m\"\u001b[39m\u001b[38;5;124mname\u001b[39m\u001b[38;5;124m\"\u001b[39m: \u001b[38;5;28mtype\u001b[39m(estimator)\u001b[38;5;241m.\u001b[39m\u001b[38;5;18m__name__\u001b[39m})\n",
      "\u001b[1;31mNotFittedError\u001b[0m: This TfidfTransformer instance is not fitted yet. Call 'fit' with appropriate arguments before using this estimator."
     ]
    }
   ],
   "source": [
    "shelf.process_ingredients(['cod filet'])"
   ]
  }
 ],
 "metadata": {
  "kernelspec": {
   "display_name": "recipe3",
   "language": "python",
   "name": "python3"
  },
  "language_info": {
   "codemirror_mode": {
    "name": "ipython",
    "version": 3
   },
   "file_extension": ".py",
   "mimetype": "text/x-python",
   "name": "python",
   "nbconvert_exporter": "python",
   "pygments_lexer": "ipython3",
   "version": "3.10.15"
  }
 },
 "nbformat": 4,
 "nbformat_minor": 2
}
