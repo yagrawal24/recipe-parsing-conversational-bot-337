{
 "cells": [
  {
   "cell_type": "code",
   "execution_count": 1,
   "metadata": {},
   "outputs": [],
   "source": [
    "from url import *\n",
    "from rapidfuzz import process"
   ]
  },
  {
   "cell_type": "code",
   "execution_count": 2,
   "metadata": {},
   "outputs": [
    {
     "name": "stdout",
     "output_type": "stream",
     "text": [
      "['Preheat the oven to 400 degrees F (200 degrees C).', 'Place softened butter, minced garlic, parsley, oregano, and thyme or rosemary on a cutting board', 'Using a sharp knife, cut herbs and garlic into each other and the butter, cutting and mixing as you go', 'Add pink salt, black pepper, and paprika, and mix until well blended.', 'Pat cod filets dry', 'In a 12x18-inch casserole or baking pan, place each filet on top of 2 lemon slices', 'Evenly divide herb butter mixture among the filets; use a fork or offset spatula to spread herb butter over filets', 'Top each filet with 2 remaining lemon slices.', 'Bake in the preheated oven until cod flakes easily with a fork, 13 to 15 minutes', 'See note.', 'To serve, drizzle each filet with extra virgin olive oil, and garnish with fresh parsley, if desired.']\n",
      "\n",
      "\n",
      "[{'quantity': '3', 'unit': 'tablespoons', 'name': ' butter', 'descriptor': 'unsalted', 'preparation': 'softened'}, {'quantity': '1', 'unit': 'tablespoon', 'name': ' garlic', 'preparation': 'finely minced', 'descriptor': 'fresh'}, {'quantity': '1', 'unit': 'tablespoon', 'name': ' parsley', 'preparation': 'minced', 'descriptor': 'fresh'}, {'quantity': '2', 'unit': 'teaspoons', 'name': ' oregano', 'preparation': 'minced', 'descriptor': 'fresh'}, {'quantity': '1', 'unit': 'teaspoon', 'name': ' thyme', 'alternative': 'rosemary', 'preparation': 'minced', 'descriptor': 'fresh'}, {'quantity': '1/2', 'unit': 'teaspoon', 'name': ' salt', 'alternative': 'to taste', 'preparation': 'finely ground', 'descriptor': 'pink'}, {'quantity': '1/4', 'unit': 'teaspoon', 'name': ' pepper', 'preparation': 'freshly ground', 'descriptor': 'black'}, {'quantity': '1/2', 'unit': 'teaspoon', 'name': ' paprika'}, {'quantity': '4', 'unit': '(6 ounce)', 'name': 'tofu'}, {'quantity': '2', 'name': ' lemons slices', 'preparation': 'cut', 'descriptor': 'thin'}, {'quantity': '1', 'unit': 'tablespoon', 'name': ' olive oil', 'descriptor': 'extra virgin'}, {'quantity': '4', 'unit': 'sprigs', 'name': ' parsley', 'descriptor': 'fresh garnish optional'}]\n",
      "['Preheat the oven to 400 degrees F (200 degrees C).', 'Place softened butter, minced garlic, parsley, oregano, and thyme or rosemary on a cutting board', 'Using a sharp knife, cut herbs and garlic into each other and the butter, cutting and mixing as you go', 'Add pink salt, black pepper, and paprika, and mix until well blended.', 'Pat tofu or seaweed-marinated tofu filets dry', 'In a 12x18-inch casserole or baking pan, place each filet on top of 2 lemon slices', 'Evenly divide herb butter mixture among the filets; use a fork or offset spatula to spread herb butter over filets', 'Top each filet with 2 remaining lemon slices.', 'Bake in the preheated oven until tofu or seaweed-marinated tofu flakes easily with a fork, 13 to 15 minutes', 'See note.', 'To serve, drizzle each filet with extra virgin olive oil, and garnish with fresh parsley, if desired.']\n",
      "\n",
      "\n"
     ]
    }
   ],
   "source": [
    "url = \"https://www.allrecipes.com/mediterranean-baked-cod-with-lemon-recipe-8576313\"\n",
    "# fetch_page_from_url(url)\n",
    "\n",
    "### Test extract methods per step below ###\n",
    "\n",
    "ingredients, instructions = fetch_page_from_url(url)\n",
    "\n",
    "print(instructions)\n",
    "print('\\n')\n",
    "\n",
    "vegan_transform = transform_recipe(ingredients, instructions, to_vegetarian)\n",
    "print(vegan_transform['ingredients'])\n",
    "print(vegan_transform['instructions'])\n",
    "print('\\n')\n",
    "\n",
    "# healthy_transform = transform_recipe(ingredients, instructions, to_healthy)\n",
    "# print(healthy_transform['ingredients'])\n",
    "# print(healthy_transform['instructions'])\n",
    "# print('\\n')\n",
    "\n",
    "# mexican_transform = transform_recipe(ingredients, instructions, mexican_style['ingredients'], mexican_style['techniques'])\n",
    "# print(mexican_transform['ingredients'])\n",
    "# print(mexican_transform['instructions'])\n",
    "# print('\\n')\n",
    "\n",
    "# italian_transform = transform_recipe(ingredients, instructions, italian_style['ingredients'], italian_style['techniques'])\n",
    "# print(italian_transform['ingredients'])\n",
    "# print(italian_transform['instructions'])\n",
    "# print('\\n')"
   ]
  },
  {
   "cell_type": "code",
   "execution_count": 9,
   "metadata": {},
   "outputs": [
    {
     "data": {
      "text/plain": [
       "'Pat tofu or seaweed-marinated tofu filets dry'"
      ]
     },
     "execution_count": 9,
     "metadata": {},
     "output_type": "execute_result"
    }
   ],
   "source": [
    "line = \"Pat cod filets dry\"\n",
    "for old_ing, new_ing in to_vegetarian.items():\n",
    "    if old_ing in line.lower():\n",
    "        line = line.replace(old_ing, ' or '.join(new_ing))\n",
    "line"
   ]
  },
  {
   "cell_type": "code",
   "execution_count": 8,
   "metadata": {},
   "outputs": [],
   "source": [
    "from pyfood.utils import Shelf\n",
    "shelf = Shelf()"
   ]
  },
  {
   "cell_type": "code",
   "execution_count": 9,
   "metadata": {},
   "outputs": [
    {
     "name": "stdout",
     "output_type": "stream",
     "text": [
      "{'quantity': '3', 'unit': 'tablespoons', 'name': ' butter', 'descriptor': 'unsalted', 'preparation': 'softened'}\n",
      "{'ingredients': [{'foodname': 'butter', 'quantity': 100.0, 'unit': 'g', 'taxon': '201'}], 'HS': [], 'ingredients_by_taxon': [['butter']], 'labels': {'vegan': False, 'vege': True, 'seasonality': {'city': 'EU', 'score': 50, 'best_now': True}}, 'revisited': []}\n",
      "{'quantity': '1', 'unit': 'tablespoon', 'name': ' garlic', 'preparation': 'finely minced', 'descriptor': 'fresh'}\n",
      "{'ingredients': [{'foodname': 'garlic', 'quantity': 100.0, 'unit': 'g', 'taxon': '002'}], 'HS': [], 'ingredients_by_taxon': [['garlic']], 'labels': {'vegan': True, 'vege': True, 'seasonality': {'city': 'EU', 'score': 100, 'best_now': True}}, 'revisited': []}\n",
      "{'quantity': '1', 'unit': 'tablespoon', 'name': ' parsley', 'preparation': 'minced', 'descriptor': 'fresh'}\n",
      "{'ingredients': [{'foodname': 'parsley', 'quantity': 100.0, 'unit': 'g', 'taxon': '008'}], 'HS': [], 'ingredients_by_taxon': [['parsley']], 'labels': {'vegan': True, 'vege': True, 'seasonality': {'city': 'EU', 'score': 100, 'best_now': True}}, 'revisited': []}\n",
      "{'quantity': '2', 'unit': 'teaspoons', 'name': ' oregano', 'preparation': 'minced', 'descriptor': 'fresh'}\n",
      "{'ingredients': [], 'HS': ['oregano'], 'ingredients_by_taxon': [], 'labels': {'vegan': True, 'vege': True, 'seasonality': {'city': 'EU', 'score': 0, 'best_now': False}}, 'revisited': []}\n",
      "{'quantity': '1', 'unit': 'teaspoon', 'name': ' thyme', 'alternative': 'rosemary', 'preparation': 'minced', 'descriptor': 'fresh'}\n",
      "{'ingredients': [], 'HS': ['thyme'], 'ingredients_by_taxon': [], 'labels': {'vegan': True, 'vege': True, 'seasonality': {'city': 'EU', 'score': 0, 'best_now': False}}, 'revisited': []}\n",
      "{'quantity': '1/2', 'unit': 'teaspoon', 'name': ' salt', 'alternative': 'to taste', 'preparation': 'finely ground', 'descriptor': 'pink'}\n",
      "{'ingredients': [{'foodname': 'salt', 'quantity': 100.0, 'unit': 'g', 'taxon': '101'}], 'HS': [], 'ingredients_by_taxon': [['salt']], 'labels': {'vegan': True, 'vege': True, 'seasonality': {'city': 'EU', 'score': 50, 'best_now': True}}, 'revisited': []}\n",
      "{'quantity': '1/4', 'unit': 'teaspoon', 'name': ' pepper', 'preparation': 'freshly ground', 'descriptor': 'black'}\n",
      "{'ingredients': [{'foodname': 'pepper', 'quantity': 100.0, 'unit': 'g', 'taxon': '101'}], 'HS': [], 'ingredients_by_taxon': [['pepper']], 'labels': {'vegan': True, 'vege': True, 'seasonality': {'city': 'EU', 'score': 50, 'best_now': True}}, 'revisited': []}\n",
      "{'quantity': '1/2', 'unit': 'teaspoon', 'name': ' paprika'}\n",
      "{'ingredients': [{'foodname': 'paprika', 'quantity': 100.0, 'unit': 'g', 'taxon': '101'}], 'HS': [], 'ingredients_by_taxon': [['paprika']], 'labels': {'vegan': True, 'vege': True, 'seasonality': {'city': 'EU', 'score': 50, 'best_now': True}}, 'revisited': []}\n",
      "{'quantity': '4', 'unit': '(6 ounce)', 'name': ' cod filets'}\n"
     ]
    },
    {
     "ename": "NotFittedError",
     "evalue": "This TfidfTransformer instance is not fitted yet. Call 'fit' with appropriate arguments before using this estimator.",
     "output_type": "error",
     "traceback": [
      "\u001b[1;31m---------------------------------------------------------------------------\u001b[0m",
      "\u001b[1;31mNotFittedError\u001b[0m                            Traceback (most recent call last)",
      "Cell \u001b[1;32mIn[9], line 3\u001b[0m\n\u001b[0;32m      1\u001b[0m \u001b[38;5;28;01mfor\u001b[39;00m i \u001b[38;5;129;01min\u001b[39;00m ingredients:\n\u001b[0;32m      2\u001b[0m     \u001b[38;5;28mprint\u001b[39m(i)\n\u001b[1;32m----> 3\u001b[0m     \u001b[38;5;28mprint\u001b[39m(\u001b[43mshelf\u001b[49m\u001b[38;5;241;43m.\u001b[39;49m\u001b[43mprocess_ingredients\u001b[49m\u001b[43m(\u001b[49m\u001b[43m[\u001b[49m\u001b[43mi\u001b[49m\u001b[43m[\u001b[49m\u001b[38;5;124;43m'\u001b[39;49m\u001b[38;5;124;43mname\u001b[39;49m\u001b[38;5;124;43m'\u001b[39;49m\u001b[43m]\u001b[49m\u001b[43m \u001b[49m\u001b[38;5;241;43m+\u001b[39;49m\u001b[43m \u001b[49m\u001b[43mi\u001b[49m\u001b[43m[\u001b[49m\u001b[38;5;124;43m'\u001b[39;49m\u001b[38;5;124;43mdescriptor\u001b[39;49m\u001b[38;5;124;43m'\u001b[39;49m\u001b[43m]\u001b[49m\u001b[43m \u001b[49m\u001b[38;5;28;43;01mif\u001b[39;49;00m\u001b[43m \u001b[49m\u001b[38;5;124;43m'\u001b[39;49m\u001b[38;5;124;43mdiscriptor\u001b[39;49m\u001b[38;5;124;43m'\u001b[39;49m\u001b[43m \u001b[49m\u001b[38;5;129;43;01min\u001b[39;49;00m\u001b[43m \u001b[49m\u001b[43mi\u001b[49m\u001b[38;5;241;43m.\u001b[39;49m\u001b[43mkeys\u001b[49m\u001b[43m(\u001b[49m\u001b[43m)\u001b[49m\u001b[43m \u001b[49m\u001b[38;5;28;43;01melse\u001b[39;49;00m\u001b[43m \u001b[49m\u001b[43mi\u001b[49m\u001b[43m[\u001b[49m\u001b[38;5;124;43m'\u001b[39;49m\u001b[38;5;124;43mname\u001b[39;49m\u001b[38;5;124;43m'\u001b[39;49m\u001b[43m]\u001b[49m\u001b[43m]\u001b[49m\u001b[43m)\u001b[49m)\n",
      "File \u001b[1;32mc:\\Users\\rockm\\anaconda3\\envs\\recipe3\\lib\\site-packages\\pyfood\\utils.py:408\u001b[0m, in \u001b[0;36mShelf.process_ingredients\u001b[1;34m(self, food_list, qty_list, unit_list, lang_dest, revisit, infer_nutri, serving)\u001b[0m\n\u001b[0;32m    382\u001b[0m \u001b[38;5;250m\u001b[39m\u001b[38;5;124;03m\"\"\"Labels a list of ingredients, e.g., from a recipe or a basket of food, and saves attributes / labels in self.tags\u001b[39;00m\n\u001b[0;32m    383\u001b[0m \n\u001b[0;32m    384\u001b[0m \u001b[38;5;124;03mParameters\u001b[39;00m\n\u001b[1;32m   (...)\u001b[0m\n\u001b[0;32m    404\u001b[0m \u001b[38;5;124;03m    Extracted ingredients (ingredients_by_taxon, HS, revisited), predicted nutrition (allergies, energy, macro, minerals, vitamines) and labels (vege, vegan, seasonality)\u001b[39;00m\n\u001b[0;32m    405\u001b[0m \u001b[38;5;124;03m\"\"\"\u001b[39;00m\n\u001b[0;32m    407\u001b[0m \u001b[38;5;66;03m# read recipe\u001b[39;00m\n\u001b[1;32m--> 408\u001b[0m my_recipe_vector, foodnames, qties, unit_list, taxons, HS, HS_id \u001b[38;5;241m=\u001b[39m \u001b[38;5;28;43mself\u001b[39;49m\u001b[38;5;241;43m.\u001b[39;49m\u001b[43mNER\u001b[49m\u001b[43m(\u001b[49m\n\u001b[0;32m    409\u001b[0m \u001b[43m    \u001b[49m\u001b[43mfood_list\u001b[49m\u001b[38;5;241;43m=\u001b[39;49m\u001b[43mfood_list\u001b[49m\u001b[43m,\u001b[49m\n\u001b[0;32m    410\u001b[0m \u001b[43m    \u001b[49m\u001b[43mqty_list\u001b[49m\u001b[38;5;241;43m=\u001b[39;49m\u001b[43mqty_list\u001b[49m\u001b[43m,\u001b[49m\n\u001b[0;32m    411\u001b[0m \u001b[43m    \u001b[49m\u001b[43munit_list\u001b[49m\u001b[38;5;241;43m=\u001b[39;49m\u001b[43munit_list\u001b[49m\u001b[43m,\u001b[49m\n\u001b[0;32m    412\u001b[0m \u001b[43m    \u001b[49m\u001b[43mlang_dest\u001b[49m\u001b[38;5;241;43m=\u001b[39;49m\u001b[43mlang_dest\u001b[49m\u001b[43m,\u001b[49m\n\u001b[0;32m    413\u001b[0m \u001b[43m\u001b[49m\u001b[43m)\u001b[49m  \u001b[38;5;66;03m# map ingredients to basket of food\u001b[39;00m\n\u001b[0;32m    414\u001b[0m \u001b[38;5;28mself\u001b[39m\u001b[38;5;241m.\u001b[39mtags \u001b[38;5;241m=\u001b[39m {}  \u001b[38;5;66;03m# init tags\u001b[39;00m\n\u001b[0;32m    415\u001b[0m \u001b[38;5;28mself\u001b[39m\u001b[38;5;241m.\u001b[39mtags[\u001b[38;5;124m\"\u001b[39m\u001b[38;5;124mingredients\u001b[39m\u001b[38;5;124m\"\u001b[39m] \u001b[38;5;241m=\u001b[39m lists2object(\n\u001b[0;32m    416\u001b[0m     foodnames, qties, unit_list, taxons\n\u001b[0;32m    417\u001b[0m )  \u001b[38;5;66;03m# seasonal and vege ingedients\u001b[39;00m\n",
      "File \u001b[1;32mc:\\Users\\rockm\\anaconda3\\envs\\recipe3\\lib\\site-packages\\pyfood\\utils.py:352\u001b[0m, in \u001b[0;36mShelf.NER\u001b[1;34m(self, food_list, qty_list, unit_list, lang_dest, filter_HS)\u001b[0m\n\u001b[0;32m    349\u001b[0m HS, HS_id \u001b[38;5;241m=\u001b[39m [], []  \u001b[38;5;66;03m# hors saison\u001b[39;00m\n\u001b[0;32m    351\u001b[0m \u001b[38;5;28;01mfor\u001b[39;00m (food_, qty_, unit_) \u001b[38;5;129;01min\u001b[39;00m \u001b[38;5;28mzip\u001b[39m(food_list, qty_list, unit_list):  \u001b[38;5;66;03m# ingredients\u001b[39;00m\n\u001b[1;32m--> 352\u001b[0m     food_, fid, taxon, score \u001b[38;5;241m=\u001b[39m \u001b[38;5;28;43mself\u001b[39;49m\u001b[38;5;241;43m.\u001b[39;49m\u001b[43mtext2food\u001b[49m\u001b[43m(\u001b[49m\u001b[43mfood_name\u001b[49m\u001b[38;5;241;43m=\u001b[39;49m\u001b[43mfood_\u001b[49m\u001b[43m)\u001b[49m\n\u001b[0;32m    353\u001b[0m     \u001b[38;5;28;01mif\u001b[39;00m fid \u001b[38;5;129;01mis\u001b[39;00m \u001b[38;5;129;01mnot\u001b[39;00m \u001b[38;5;28;01mNone\u001b[39;00m:  \u001b[38;5;66;03m# food_ is in food vocab\u001b[39;00m\n\u001b[0;32m    354\u001b[0m         \u001b[38;5;28;01mif\u001b[39;00m lang_dest \u001b[38;5;241m!=\u001b[39m \u001b[38;5;28mself\u001b[39m\u001b[38;5;241m.\u001b[39mlang_source:\n",
      "File \u001b[1;32mc:\\Users\\rockm\\anaconda3\\envs\\recipe3\\lib\\site-packages\\pyfood\\utils.py:247\u001b[0m, in \u001b[0;36mShelf.text2food\u001b[1;34m(self, food_name, threshold)\u001b[0m\n\u001b[0;32m    244\u001b[0m candidates \u001b[38;5;241m=\u001b[39m \u001b[38;5;28mlist\u001b[39m(\u001b[38;5;28mset\u001b[39m(candidates))  \u001b[38;5;66;03m# remove duplicate ngrams\u001b[39;00m\n\u001b[0;32m    245\u001b[0m penalty \u001b[38;5;241m=\u001b[39m np\u001b[38;5;241m.\u001b[39marray([[\u001b[38;5;28mlen\u001b[39m(c) \u001b[38;5;241m/\u001b[39m \u001b[38;5;28mlen\u001b[39m(food_name)] \u001b[38;5;28;01mfor\u001b[39;00m c \u001b[38;5;129;01min\u001b[39;00m candidates])\n\u001b[0;32m    246\u001b[0m affinity \u001b[38;5;241m=\u001b[39m penalty \u001b[38;5;241m*\u001b[39m cosine_similarity(\n\u001b[1;32m--> 247\u001b[0m     \u001b[38;5;28;43mself\u001b[39;49m\u001b[38;5;241;43m.\u001b[39;49m\u001b[43mtfidf\u001b[49m\u001b[38;5;241;43m.\u001b[39;49m\u001b[43mtransform\u001b[49m\u001b[43m(\u001b[49m\u001b[43mcandidates\u001b[49m\u001b[43m)\u001b[49m, \u001b[38;5;28mself\u001b[39m\u001b[38;5;241m.\u001b[39mngrams, dense_output\u001b[38;5;241m=\u001b[39m\u001b[38;5;28;01mTrue\u001b[39;00m\n\u001b[0;32m    248\u001b[0m )  \u001b[38;5;66;03m# (len(candidates), n_ingredients)\u001b[39;00m\n\u001b[0;32m    249\u001b[0m neighbors_id \u001b[38;5;241m=\u001b[39m np\u001b[38;5;241m.\u001b[39margmax(affinity, axis\u001b[38;5;241m=\u001b[39m\u001b[38;5;241m1\u001b[39m)\n\u001b[0;32m    250\u001b[0m values \u001b[38;5;241m=\u001b[39m np\u001b[38;5;241m.\u001b[39marray([affinity[i][j] \u001b[38;5;28;01mfor\u001b[39;00m i, j \u001b[38;5;129;01min\u001b[39;00m \u001b[38;5;28menumerate\u001b[39m(neighbors_id)])\n",
      "File \u001b[1;32mc:\\Users\\rockm\\anaconda3\\envs\\recipe3\\lib\\site-packages\\sklearn\\feature_extraction\\text.py:2116\u001b[0m, in \u001b[0;36mTfidfVectorizer.transform\u001b[1;34m(self, raw_documents)\u001b[0m\n\u001b[0;32m   2113\u001b[0m check_is_fitted(\u001b[38;5;28mself\u001b[39m, msg\u001b[38;5;241m=\u001b[39m\u001b[38;5;124m\"\u001b[39m\u001b[38;5;124mThe TF-IDF vectorizer is not fitted\u001b[39m\u001b[38;5;124m\"\u001b[39m)\n\u001b[0;32m   2115\u001b[0m X \u001b[38;5;241m=\u001b[39m \u001b[38;5;28msuper\u001b[39m()\u001b[38;5;241m.\u001b[39mtransform(raw_documents)\n\u001b[1;32m-> 2116\u001b[0m \u001b[38;5;28;01mreturn\u001b[39;00m \u001b[38;5;28;43mself\u001b[39;49m\u001b[38;5;241;43m.\u001b[39;49m\u001b[43m_tfidf\u001b[49m\u001b[38;5;241;43m.\u001b[39;49m\u001b[43mtransform\u001b[49m\u001b[43m(\u001b[49m\u001b[43mX\u001b[49m\u001b[43m,\u001b[49m\u001b[43m \u001b[49m\u001b[43mcopy\u001b[49m\u001b[38;5;241;43m=\u001b[39;49m\u001b[38;5;28;43;01mFalse\u001b[39;49;00m\u001b[43m)\u001b[49m\n",
      "File \u001b[1;32mc:\\Users\\rockm\\anaconda3\\envs\\recipe3\\lib\\site-packages\\sklearn\\feature_extraction\\text.py:1687\u001b[0m, in \u001b[0;36mTfidfTransformer.transform\u001b[1;34m(self, X, copy)\u001b[0m\n\u001b[0;32m   1670\u001b[0m \u001b[38;5;28;01mdef\u001b[39;00m \u001b[38;5;21mtransform\u001b[39m(\u001b[38;5;28mself\u001b[39m, X, copy\u001b[38;5;241m=\u001b[39m\u001b[38;5;28;01mTrue\u001b[39;00m):\n\u001b[0;32m   1671\u001b[0m \u001b[38;5;250m    \u001b[39m\u001b[38;5;124;03m\"\"\"Transform a count matrix to a tf or tf-idf representation.\u001b[39;00m\n\u001b[0;32m   1672\u001b[0m \n\u001b[0;32m   1673\u001b[0m \u001b[38;5;124;03m    Parameters\u001b[39;00m\n\u001b[1;32m   (...)\u001b[0m\n\u001b[0;32m   1685\u001b[0m \u001b[38;5;124;03m        Tf-idf-weighted document-term matrix.\u001b[39;00m\n\u001b[0;32m   1686\u001b[0m \u001b[38;5;124;03m    \"\"\"\u001b[39;00m\n\u001b[1;32m-> 1687\u001b[0m     \u001b[43mcheck_is_fitted\u001b[49m\u001b[43m(\u001b[49m\u001b[38;5;28;43mself\u001b[39;49m\u001b[43m)\u001b[49m\n\u001b[0;32m   1688\u001b[0m     X \u001b[38;5;241m=\u001b[39m \u001b[38;5;28mself\u001b[39m\u001b[38;5;241m.\u001b[39m_validate_data(\n\u001b[0;32m   1689\u001b[0m         X,\n\u001b[0;32m   1690\u001b[0m         accept_sparse\u001b[38;5;241m=\u001b[39m\u001b[38;5;124m\"\u001b[39m\u001b[38;5;124mcsr\u001b[39m\u001b[38;5;124m\"\u001b[39m,\n\u001b[1;32m   (...)\u001b[0m\n\u001b[0;32m   1693\u001b[0m         reset\u001b[38;5;241m=\u001b[39m\u001b[38;5;28;01mFalse\u001b[39;00m,\n\u001b[0;32m   1694\u001b[0m     )\n\u001b[0;32m   1695\u001b[0m     \u001b[38;5;28;01mif\u001b[39;00m \u001b[38;5;129;01mnot\u001b[39;00m sp\u001b[38;5;241m.\u001b[39missparse(X):\n",
      "File \u001b[1;32mc:\\Users\\rockm\\anaconda3\\envs\\recipe3\\lib\\site-packages\\sklearn\\utils\\validation.py:1661\u001b[0m, in \u001b[0;36mcheck_is_fitted\u001b[1;34m(estimator, attributes, msg, all_or_any)\u001b[0m\n\u001b[0;32m   1658\u001b[0m     \u001b[38;5;28;01mraise\u001b[39;00m \u001b[38;5;167;01mTypeError\u001b[39;00m(\u001b[38;5;124m\"\u001b[39m\u001b[38;5;132;01m%s\u001b[39;00m\u001b[38;5;124m is not an estimator instance.\u001b[39m\u001b[38;5;124m\"\u001b[39m \u001b[38;5;241m%\u001b[39m (estimator))\n\u001b[0;32m   1660\u001b[0m \u001b[38;5;28;01mif\u001b[39;00m \u001b[38;5;129;01mnot\u001b[39;00m _is_fitted(estimator, attributes, all_or_any):\n\u001b[1;32m-> 1661\u001b[0m     \u001b[38;5;28;01mraise\u001b[39;00m NotFittedError(msg \u001b[38;5;241m%\u001b[39m {\u001b[38;5;124m\"\u001b[39m\u001b[38;5;124mname\u001b[39m\u001b[38;5;124m\"\u001b[39m: \u001b[38;5;28mtype\u001b[39m(estimator)\u001b[38;5;241m.\u001b[39m\u001b[38;5;18m__name__\u001b[39m})\n",
      "\u001b[1;31mNotFittedError\u001b[0m: This TfidfTransformer instance is not fitted yet. Call 'fit' with appropriate arguments before using this estimator."
     ]
    }
   ],
   "source": [
    "for i in ingredients:\n",
    "    print(i)\n",
    "    print(shelf.process_ingredients([i['name'] + i['descriptor'] if 'discriptor' in i.keys() else i['name']]))"
   ]
  },
  {
   "cell_type": "code",
   "execution_count": 10,
   "metadata": {},
   "outputs": [
    {
     "ename": "NotFittedError",
     "evalue": "This TfidfTransformer instance is not fitted yet. Call 'fit' with appropriate arguments before using this estimator.",
     "output_type": "error",
     "traceback": [
      "\u001b[1;31m---------------------------------------------------------------------------\u001b[0m",
      "\u001b[1;31mNotFittedError\u001b[0m                            Traceback (most recent call last)",
      "Cell \u001b[1;32mIn[10], line 1\u001b[0m\n\u001b[1;32m----> 1\u001b[0m \u001b[43mshelf\u001b[49m\u001b[38;5;241;43m.\u001b[39;49m\u001b[43mprocess_ingredients\u001b[49m\u001b[43m(\u001b[49m\u001b[43m[\u001b[49m\u001b[38;5;124;43m'\u001b[39;49m\u001b[38;5;124;43mcod filet\u001b[39;49m\u001b[38;5;124;43m'\u001b[39;49m\u001b[43m]\u001b[49m\u001b[43m)\u001b[49m\n",
      "File \u001b[1;32mc:\\Users\\rockm\\anaconda3\\envs\\recipe3\\lib\\site-packages\\pyfood\\utils.py:408\u001b[0m, in \u001b[0;36mShelf.process_ingredients\u001b[1;34m(self, food_list, qty_list, unit_list, lang_dest, revisit, infer_nutri, serving)\u001b[0m\n\u001b[0;32m    382\u001b[0m \u001b[38;5;250m\u001b[39m\u001b[38;5;124;03m\"\"\"Labels a list of ingredients, e.g., from a recipe or a basket of food, and saves attributes / labels in self.tags\u001b[39;00m\n\u001b[0;32m    383\u001b[0m \n\u001b[0;32m    384\u001b[0m \u001b[38;5;124;03mParameters\u001b[39;00m\n\u001b[1;32m   (...)\u001b[0m\n\u001b[0;32m    404\u001b[0m \u001b[38;5;124;03m    Extracted ingredients (ingredients_by_taxon, HS, revisited), predicted nutrition (allergies, energy, macro, minerals, vitamines) and labels (vege, vegan, seasonality)\u001b[39;00m\n\u001b[0;32m    405\u001b[0m \u001b[38;5;124;03m\"\"\"\u001b[39;00m\n\u001b[0;32m    407\u001b[0m \u001b[38;5;66;03m# read recipe\u001b[39;00m\n\u001b[1;32m--> 408\u001b[0m my_recipe_vector, foodnames, qties, unit_list, taxons, HS, HS_id \u001b[38;5;241m=\u001b[39m \u001b[38;5;28;43mself\u001b[39;49m\u001b[38;5;241;43m.\u001b[39;49m\u001b[43mNER\u001b[49m\u001b[43m(\u001b[49m\n\u001b[0;32m    409\u001b[0m \u001b[43m    \u001b[49m\u001b[43mfood_list\u001b[49m\u001b[38;5;241;43m=\u001b[39;49m\u001b[43mfood_list\u001b[49m\u001b[43m,\u001b[49m\n\u001b[0;32m    410\u001b[0m \u001b[43m    \u001b[49m\u001b[43mqty_list\u001b[49m\u001b[38;5;241;43m=\u001b[39;49m\u001b[43mqty_list\u001b[49m\u001b[43m,\u001b[49m\n\u001b[0;32m    411\u001b[0m \u001b[43m    \u001b[49m\u001b[43munit_list\u001b[49m\u001b[38;5;241;43m=\u001b[39;49m\u001b[43munit_list\u001b[49m\u001b[43m,\u001b[49m\n\u001b[0;32m    412\u001b[0m \u001b[43m    \u001b[49m\u001b[43mlang_dest\u001b[49m\u001b[38;5;241;43m=\u001b[39;49m\u001b[43mlang_dest\u001b[49m\u001b[43m,\u001b[49m\n\u001b[0;32m    413\u001b[0m \u001b[43m\u001b[49m\u001b[43m)\u001b[49m  \u001b[38;5;66;03m# map ingredients to basket of food\u001b[39;00m\n\u001b[0;32m    414\u001b[0m \u001b[38;5;28mself\u001b[39m\u001b[38;5;241m.\u001b[39mtags \u001b[38;5;241m=\u001b[39m {}  \u001b[38;5;66;03m# init tags\u001b[39;00m\n\u001b[0;32m    415\u001b[0m \u001b[38;5;28mself\u001b[39m\u001b[38;5;241m.\u001b[39mtags[\u001b[38;5;124m\"\u001b[39m\u001b[38;5;124mingredients\u001b[39m\u001b[38;5;124m\"\u001b[39m] \u001b[38;5;241m=\u001b[39m lists2object(\n\u001b[0;32m    416\u001b[0m     foodnames, qties, unit_list, taxons\n\u001b[0;32m    417\u001b[0m )  \u001b[38;5;66;03m# seasonal and vege ingedients\u001b[39;00m\n",
      "File \u001b[1;32mc:\\Users\\rockm\\anaconda3\\envs\\recipe3\\lib\\site-packages\\pyfood\\utils.py:352\u001b[0m, in \u001b[0;36mShelf.NER\u001b[1;34m(self, food_list, qty_list, unit_list, lang_dest, filter_HS)\u001b[0m\n\u001b[0;32m    349\u001b[0m HS, HS_id \u001b[38;5;241m=\u001b[39m [], []  \u001b[38;5;66;03m# hors saison\u001b[39;00m\n\u001b[0;32m    351\u001b[0m \u001b[38;5;28;01mfor\u001b[39;00m (food_, qty_, unit_) \u001b[38;5;129;01min\u001b[39;00m \u001b[38;5;28mzip\u001b[39m(food_list, qty_list, unit_list):  \u001b[38;5;66;03m# ingredients\u001b[39;00m\n\u001b[1;32m--> 352\u001b[0m     food_, fid, taxon, score \u001b[38;5;241m=\u001b[39m \u001b[38;5;28;43mself\u001b[39;49m\u001b[38;5;241;43m.\u001b[39;49m\u001b[43mtext2food\u001b[49m\u001b[43m(\u001b[49m\u001b[43mfood_name\u001b[49m\u001b[38;5;241;43m=\u001b[39;49m\u001b[43mfood_\u001b[49m\u001b[43m)\u001b[49m\n\u001b[0;32m    353\u001b[0m     \u001b[38;5;28;01mif\u001b[39;00m fid \u001b[38;5;129;01mis\u001b[39;00m \u001b[38;5;129;01mnot\u001b[39;00m \u001b[38;5;28;01mNone\u001b[39;00m:  \u001b[38;5;66;03m# food_ is in food vocab\u001b[39;00m\n\u001b[0;32m    354\u001b[0m         \u001b[38;5;28;01mif\u001b[39;00m lang_dest \u001b[38;5;241m!=\u001b[39m \u001b[38;5;28mself\u001b[39m\u001b[38;5;241m.\u001b[39mlang_source:\n",
      "File \u001b[1;32mc:\\Users\\rockm\\anaconda3\\envs\\recipe3\\lib\\site-packages\\pyfood\\utils.py:247\u001b[0m, in \u001b[0;36mShelf.text2food\u001b[1;34m(self, food_name, threshold)\u001b[0m\n\u001b[0;32m    244\u001b[0m candidates \u001b[38;5;241m=\u001b[39m \u001b[38;5;28mlist\u001b[39m(\u001b[38;5;28mset\u001b[39m(candidates))  \u001b[38;5;66;03m# remove duplicate ngrams\u001b[39;00m\n\u001b[0;32m    245\u001b[0m penalty \u001b[38;5;241m=\u001b[39m np\u001b[38;5;241m.\u001b[39marray([[\u001b[38;5;28mlen\u001b[39m(c) \u001b[38;5;241m/\u001b[39m \u001b[38;5;28mlen\u001b[39m(food_name)] \u001b[38;5;28;01mfor\u001b[39;00m c \u001b[38;5;129;01min\u001b[39;00m candidates])\n\u001b[0;32m    246\u001b[0m affinity \u001b[38;5;241m=\u001b[39m penalty \u001b[38;5;241m*\u001b[39m cosine_similarity(\n\u001b[1;32m--> 247\u001b[0m     \u001b[38;5;28;43mself\u001b[39;49m\u001b[38;5;241;43m.\u001b[39;49m\u001b[43mtfidf\u001b[49m\u001b[38;5;241;43m.\u001b[39;49m\u001b[43mtransform\u001b[49m\u001b[43m(\u001b[49m\u001b[43mcandidates\u001b[49m\u001b[43m)\u001b[49m, \u001b[38;5;28mself\u001b[39m\u001b[38;5;241m.\u001b[39mngrams, dense_output\u001b[38;5;241m=\u001b[39m\u001b[38;5;28;01mTrue\u001b[39;00m\n\u001b[0;32m    248\u001b[0m )  \u001b[38;5;66;03m# (len(candidates), n_ingredients)\u001b[39;00m\n\u001b[0;32m    249\u001b[0m neighbors_id \u001b[38;5;241m=\u001b[39m np\u001b[38;5;241m.\u001b[39margmax(affinity, axis\u001b[38;5;241m=\u001b[39m\u001b[38;5;241m1\u001b[39m)\n\u001b[0;32m    250\u001b[0m values \u001b[38;5;241m=\u001b[39m np\u001b[38;5;241m.\u001b[39marray([affinity[i][j] \u001b[38;5;28;01mfor\u001b[39;00m i, j \u001b[38;5;129;01min\u001b[39;00m \u001b[38;5;28menumerate\u001b[39m(neighbors_id)])\n",
      "File \u001b[1;32mc:\\Users\\rockm\\anaconda3\\envs\\recipe3\\lib\\site-packages\\sklearn\\feature_extraction\\text.py:2116\u001b[0m, in \u001b[0;36mTfidfVectorizer.transform\u001b[1;34m(self, raw_documents)\u001b[0m\n\u001b[0;32m   2113\u001b[0m check_is_fitted(\u001b[38;5;28mself\u001b[39m, msg\u001b[38;5;241m=\u001b[39m\u001b[38;5;124m\"\u001b[39m\u001b[38;5;124mThe TF-IDF vectorizer is not fitted\u001b[39m\u001b[38;5;124m\"\u001b[39m)\n\u001b[0;32m   2115\u001b[0m X \u001b[38;5;241m=\u001b[39m \u001b[38;5;28msuper\u001b[39m()\u001b[38;5;241m.\u001b[39mtransform(raw_documents)\n\u001b[1;32m-> 2116\u001b[0m \u001b[38;5;28;01mreturn\u001b[39;00m \u001b[38;5;28;43mself\u001b[39;49m\u001b[38;5;241;43m.\u001b[39;49m\u001b[43m_tfidf\u001b[49m\u001b[38;5;241;43m.\u001b[39;49m\u001b[43mtransform\u001b[49m\u001b[43m(\u001b[49m\u001b[43mX\u001b[49m\u001b[43m,\u001b[49m\u001b[43m \u001b[49m\u001b[43mcopy\u001b[49m\u001b[38;5;241;43m=\u001b[39;49m\u001b[38;5;28;43;01mFalse\u001b[39;49;00m\u001b[43m)\u001b[49m\n",
      "File \u001b[1;32mc:\\Users\\rockm\\anaconda3\\envs\\recipe3\\lib\\site-packages\\sklearn\\feature_extraction\\text.py:1687\u001b[0m, in \u001b[0;36mTfidfTransformer.transform\u001b[1;34m(self, X, copy)\u001b[0m\n\u001b[0;32m   1670\u001b[0m \u001b[38;5;28;01mdef\u001b[39;00m \u001b[38;5;21mtransform\u001b[39m(\u001b[38;5;28mself\u001b[39m, X, copy\u001b[38;5;241m=\u001b[39m\u001b[38;5;28;01mTrue\u001b[39;00m):\n\u001b[0;32m   1671\u001b[0m \u001b[38;5;250m    \u001b[39m\u001b[38;5;124;03m\"\"\"Transform a count matrix to a tf or tf-idf representation.\u001b[39;00m\n\u001b[0;32m   1672\u001b[0m \n\u001b[0;32m   1673\u001b[0m \u001b[38;5;124;03m    Parameters\u001b[39;00m\n\u001b[1;32m   (...)\u001b[0m\n\u001b[0;32m   1685\u001b[0m \u001b[38;5;124;03m        Tf-idf-weighted document-term matrix.\u001b[39;00m\n\u001b[0;32m   1686\u001b[0m \u001b[38;5;124;03m    \"\"\"\u001b[39;00m\n\u001b[1;32m-> 1687\u001b[0m     \u001b[43mcheck_is_fitted\u001b[49m\u001b[43m(\u001b[49m\u001b[38;5;28;43mself\u001b[39;49m\u001b[43m)\u001b[49m\n\u001b[0;32m   1688\u001b[0m     X \u001b[38;5;241m=\u001b[39m \u001b[38;5;28mself\u001b[39m\u001b[38;5;241m.\u001b[39m_validate_data(\n\u001b[0;32m   1689\u001b[0m         X,\n\u001b[0;32m   1690\u001b[0m         accept_sparse\u001b[38;5;241m=\u001b[39m\u001b[38;5;124m\"\u001b[39m\u001b[38;5;124mcsr\u001b[39m\u001b[38;5;124m\"\u001b[39m,\n\u001b[1;32m   (...)\u001b[0m\n\u001b[0;32m   1693\u001b[0m         reset\u001b[38;5;241m=\u001b[39m\u001b[38;5;28;01mFalse\u001b[39;00m,\n\u001b[0;32m   1694\u001b[0m     )\n\u001b[0;32m   1695\u001b[0m     \u001b[38;5;28;01mif\u001b[39;00m \u001b[38;5;129;01mnot\u001b[39;00m sp\u001b[38;5;241m.\u001b[39missparse(X):\n",
      "File \u001b[1;32mc:\\Users\\rockm\\anaconda3\\envs\\recipe3\\lib\\site-packages\\sklearn\\utils\\validation.py:1661\u001b[0m, in \u001b[0;36mcheck_is_fitted\u001b[1;34m(estimator, attributes, msg, all_or_any)\u001b[0m\n\u001b[0;32m   1658\u001b[0m     \u001b[38;5;28;01mraise\u001b[39;00m \u001b[38;5;167;01mTypeError\u001b[39;00m(\u001b[38;5;124m\"\u001b[39m\u001b[38;5;132;01m%s\u001b[39;00m\u001b[38;5;124m is not an estimator instance.\u001b[39m\u001b[38;5;124m\"\u001b[39m \u001b[38;5;241m%\u001b[39m (estimator))\n\u001b[0;32m   1660\u001b[0m \u001b[38;5;28;01mif\u001b[39;00m \u001b[38;5;129;01mnot\u001b[39;00m _is_fitted(estimator, attributes, all_or_any):\n\u001b[1;32m-> 1661\u001b[0m     \u001b[38;5;28;01mraise\u001b[39;00m NotFittedError(msg \u001b[38;5;241m%\u001b[39m {\u001b[38;5;124m\"\u001b[39m\u001b[38;5;124mname\u001b[39m\u001b[38;5;124m\"\u001b[39m: \u001b[38;5;28mtype\u001b[39m(estimator)\u001b[38;5;241m.\u001b[39m\u001b[38;5;18m__name__\u001b[39m})\n",
      "\u001b[1;31mNotFittedError\u001b[0m: This TfidfTransformer instance is not fitted yet. Call 'fit' with appropriate arguments before using this estimator."
     ]
    }
   ],
   "source": [
    "shelf.process_ingredients(['cod filet'])"
   ]
  }
 ],
 "metadata": {
  "kernelspec": {
   "display_name": "recipe3",
   "language": "python",
   "name": "python3"
  },
  "language_info": {
   "codemirror_mode": {
    "name": "ipython",
    "version": 3
   },
   "file_extension": ".py",
   "mimetype": "text/x-python",
   "name": "python",
   "nbconvert_exporter": "python",
   "pygments_lexer": "ipython3",
   "version": "3.10.15"
  }
 },
 "nbformat": 4,
 "nbformat_minor": 2
}
