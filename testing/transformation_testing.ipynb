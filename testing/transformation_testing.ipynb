{
 "cells": [
  {
   "cell_type": "code",
   "execution_count": 1,
   "metadata": {},
   "outputs": [],
   "source": [
    "from url import *\n",
    "from rapidfuzz import process"
   ]
  },
  {
   "cell_type": "code",
   "execution_count": 2,
   "metadata": {},
   "outputs": [
    {
     "name": "stdout",
     "output_type": "stream",
     "text": [
      "[{'quantity': '1', 'unit': 'pound', 'name': ' skinless boneless chicken breasts', 'preparation': 'thinly sliced'}, {'quantity': '1', 'unit': 'teaspoon', 'name': ' salt'}, {'quantity': '1', 'unit': 'teaspoon', 'name': ' granules', 'descriptor': 'garlic'}, {'quantity': '1', 'unit': 'teaspoon', 'name': ' seasoning', 'descriptor': 'Italian'}, {'quantity': '2', 'unit': 'tablespoons', 'name': ' oil', 'preparation': 'divided', 'descriptor': 'olive'}, {'quantity': '1', 'name': ' shallot', 'preparation': 'minced'}, {'quantity': '4', 'unit': 'cloves', 'name': ' garlic', 'preparation': 'minced'}, {'quantity': '1', 'unit': '(28 ounce) can', 'name': ' tomatoes', 'preparation': 'crushed'}, {'quantity': '1/2', 'unit': 'teaspoon', 'name': ' salt'}, {'quantity': '1', 'unit': 'teaspoon', 'name': ' white sugar'}, {'quantity': '1/2', 'unit': 'teaspoon', 'name': ' pepper flakes', 'preparation': 'crushed', 'descriptor': 'red'}, {'quantity': '1', 'unit': 'tablespoon', 'name': ' basil', 'preparation': 'chopped', 'descriptor': 'fresh'}, {'quantity': '1 3/4', 'unit': 'cups', 'name': ' chicken broth'}, {'quantity': '1/4', 'unit': 'cup', 'name': ' pinot grigio'}, {'quantity': '16', 'unit': 'ounces', 'name': ' conchiglie pasta'}]\n",
      "['Gather all ingredients', 'Heat a deep cast iron skillet over medium heat.', 'Season chicken breasts with salt, garlic, and Italian seasoning.', 'Pour 2 teaspoons oil into the skillet', 'Once hot, add chicken', 'Cook until golden, turning once, about 4 minutes per side', 'Move chicken to one side of the skillet.', 'Pour remaining oil into the skillet', 'Add minced shallot; cook until softened, about 3 minutes', 'Add the garlic, stir until fragrant, about 1 minute.', 'Add the crushed tomatoes, salt, sugar, red pepper flakes, and basil', 'Pour in chicken broth and wine', 'Stir to combine.', 'Add pasta to the skillet', 'Nestle chicken pieces on top of pasta', 'Reduce heat to medium-low', 'Cover, and cook until pasta is tender with a bite, about 8 minutes', 'Taste and adjust seasoning; serve immediately.']\n"
     ]
    }
   ],
   "source": [
    "# url = \"https://www.allrecipes.com/recipe/218091/classic-and-simple-meat-lasagna/\"\n",
    "url = \"https://www.allrecipes.com/one-pot-chicken-pomodoro-recipe-8730087/\"\n",
    "# fetch_page_from_url(url)\n",
    "\n",
    "### Test extract methods per step below ###\n",
    "\n",
    "ingredients, instructions = fetch_page_from_url(url)\n",
    "\n",
    "print(ingredients)\n",
    "print(instructions)"
   ]
  },
  {
   "cell_type": "code",
   "execution_count": 3,
   "metadata": {},
   "outputs": [
    {
     "name": "stdout",
     "output_type": "stream",
     "text": [
      "{'skinless boneless chicken breasts': ['tofu', 'seitan'], 'chicken broth': ['vegetable broth', 'mushroom broth']}\n"
     ]
    }
   ],
   "source": [
    "alternatives = find_ingredients(ingredients, to_vegetarian)\n",
    "\n",
    "print(alternatives)"
   ]
  },
  {
   "cell_type": "code",
   "execution_count": 14,
   "metadata": {},
   "outputs": [
    {
     "name": "stdout",
     "output_type": "stream",
     "text": [
      "Gather all ingredients\n",
      "Heat a deep cast iron skillet over medium heat.\n",
      "Season chicken breasts with salt, garlic, and Italian seasoning.\n",
      "tofu or seitan\n",
      "\n",
      "\n",
      "Pour 2 teaspoons oil into the skillet\n",
      "tofu or seitan\n",
      "\n",
      "\n",
      "Once hot, add chicken\n",
      "tofu or seitan\n",
      "\n",
      "\n",
      "Cook until golden, turning once, about 4 minutes per side\n",
      "Move chicken to one side of the skillet.\n",
      "tofu or seitan\n",
      "\n",
      "\n",
      "Pour remaining oil into the skillet\n",
      "tofu or seitan\n",
      "\n",
      "\n",
      "Add minced shallot; cook until softened, about 3 minutes\n",
      "Add the garlic, stir until fragrant, about 1 minute.\n",
      "Add the crushed tomatoes, salt, sugar, red pepper flakes, and basil\n",
      "Pour in chicken broth and wine\n",
      "tofu or seitan\n",
      "\n",
      "\n",
      "vegetable broth or mushroom broth\n",
      "\n",
      "\n",
      "Stir to combine.\n",
      "Add pasta to the skillet\n",
      "tofu or seitan\n",
      "\n",
      "\n",
      "Nestle chicken pieces on top of pasta\n",
      "tofu or seitan\n",
      "\n",
      "\n",
      "Reduce heat to medium-low\n",
      "tofu or seitan\n",
      "\n",
      "\n",
      "Cover, and cook until pasta is tender with a bite, about 8 minutes\n",
      "Taste and adjust seasoning; serve immediately.\n"
     ]
    }
   ],
   "source": [
    "for i in instructions:\n",
    "    print(i)\n",
    "    step_ingredients = get_step_information(i, ingredients, \"ingredients\", threshold=60)\n",
    "    for s in step_ingredients:\n",
    "        # print(s.strip(), alternatives[0].keys(), str(s).strip() in list(alternatives[0].keys()))\n",
    "        if s.strip() in alternatives.keys():\n",
    "            print(' or '.join(alternatives[s.strip()]))\n",
    "            print(\"\\n\")"
   ]
  },
  {
   "cell_type": "code",
   "execution_count": 5,
   "metadata": {},
   "outputs": [
    {
     "data": {
      "text/plain": [
       "True"
      ]
     },
     "execution_count": 5,
     "metadata": {},
     "output_type": "execute_result"
    }
   ],
   "source": [
    "\"skinless boneless chicken breasts\" in alternatives.keys()"
   ]
  },
  {
   "cell_type": "code",
   "execution_count": 6,
   "metadata": {},
   "outputs": [
    {
     "data": {
      "text/plain": [
       "['Gather all ingredients',\n",
       " 'Heat a deep cast iron skillet over medium heat.',\n",
       " 'Season chicken breasts with salt, garlic, and Italian seasoning.',\n",
       " 'Pour 2 teaspoons oil into the skillet',\n",
       " 'Once hot, add chicken',\n",
       " 'Cook until golden, turning once, about 4 minutes per side',\n",
       " 'Move chicken to one side of the skillet.',\n",
       " 'Pour remaining oil into the skillet',\n",
       " 'Add minced shallot; cook until softened, about 3 minutes',\n",
       " 'Add the garlic, stir until fragrant, about 1 minute.',\n",
       " 'Add the crushed tomatoes, salt, sugar, red pepper flakes, and basil',\n",
       " 'Pour in chicken broth and wine',\n",
       " 'Stir to combine.',\n",
       " 'Add pasta to the skillet',\n",
       " 'Nestle chicken pieces on top of pasta',\n",
       " 'Reduce heat to medium-low',\n",
       " 'Cover, and cook until pasta is tender with a bite, about 8 minutes',\n",
       " 'Taste and adjust seasoning; serve immediately.']"
      ]
     },
     "execution_count": 6,
     "metadata": {},
     "output_type": "execute_result"
    }
   ],
   "source": [
    "instructions"
   ]
  },
  {
   "cell_type": "code",
   "execution_count": 7,
   "metadata": {},
   "outputs": [
    {
     "data": {
      "text/plain": [
       "['Gather all ingredients',\n",
       " 'Heat a deep cast iron skillet over medium heat.',\n",
       " 'Tofu or seitan with salt, garlic, and italian seasoning.',\n",
       " 'Pour 2 teaspoons oil into the skillet',\n",
       " 'Once hot, add tofu or seitan',\n",
       " 'Cook until golden, turning once, about 4 minutes per side',\n",
       " 'Move chicken to one side of the skillet.',\n",
       " 'Pour remaining oil into the skillet',\n",
       " 'Add minced shallot; cook until softened, about 3 minutes',\n",
       " 'Add the garlic, stir until fragrant, about 1 minute.',\n",
       " 'Add the crushed tomatoes, salt, sugar, red pepper flakes, and basil',\n",
       " 'Pour in vegetable broth or mushroom broth and wine',\n",
       " 'Stir to combine.',\n",
       " 'Add pasta to the skillet',\n",
       " 'Nestle chicken pieces on top of pasta',\n",
       " 'Reduce heat to medium-low',\n",
       " 'Cover, and cook until pasta is tender with a bite, about 8 minutes',\n",
       " 'Taste and adjust seasoning; serve immediately.']"
      ]
     },
     "execution_count": 7,
     "metadata": {},
     "output_type": "execute_result"
    }
   ],
   "source": [
    "modify_recipe_instructions(instructions, ingredients, alternatives)"
   ]
  },
  {
   "cell_type": "code",
   "execution_count": null,
   "metadata": {},
   "outputs": [
    {
     "ename": "TypeError",
     "evalue": "modify_recipe_instructions() missing 1 required positional argument: 'alternatives'",
     "output_type": "error",
     "traceback": [
      "\u001b[1;31m---------------------------------------------------------------------------\u001b[0m",
      "\u001b[1;31mTypeError\u001b[0m                                 Traceback (most recent call last)",
      "Cell \u001b[1;32mIn[7], line 1\u001b[0m\n\u001b[1;32m----> 1\u001b[0m instructions \u001b[38;5;241m=\u001b[39m \u001b[43mmodify_recipe_instructions\u001b[49m\u001b[43m(\u001b[49m\u001b[43minstructions\u001b[49m\u001b[43m,\u001b[49m\u001b[43m \u001b[49m\u001b[43malternatives\u001b[49m\u001b[43m)\u001b[49m\n\u001b[0;32m      3\u001b[0m \u001b[38;5;28mprint\u001b[39m(instructions)\n",
      "\u001b[1;31mTypeError\u001b[0m: modify_recipe_instructions() missing 1 required positional argument: 'alternatives'"
     ]
    }
   ],
   "source": [
    "instructions = modify_recipe_instructions(instructions, alternatives)\n",
    "\n",
    "print(instructions)"
   ]
  },
  {
   "cell_type": "code",
   "execution_count": null,
   "metadata": {},
   "outputs": [],
   "source": []
  }
 ],
 "metadata": {
  "kernelspec": {
   "display_name": "recipe3",
   "language": "python",
   "name": "python3"
  },
  "language_info": {
   "codemirror_mode": {
    "name": "ipython",
    "version": 3
   },
   "file_extension": ".py",
   "mimetype": "text/x-python",
   "name": "python",
   "nbconvert_exporter": "python",
   "pygments_lexer": "ipython3",
   "version": "3.10.15"
  }
 },
 "nbformat": 4,
 "nbformat_minor": 2
}
