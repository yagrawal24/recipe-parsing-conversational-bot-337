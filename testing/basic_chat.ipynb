{
 "cells": [
  {
   "cell_type": "code",
   "execution_count": 2,
   "metadata": {},
   "outputs": [
    {
     "ename": "ModuleNotFoundError",
     "evalue": "No module named 'googlesearch'",
     "output_type": "error",
     "traceback": [
      "\u001b[0;31m---------------------------------------------------------------------------\u001b[0m",
      "\u001b[0;31mModuleNotFoundError\u001b[0m                       Traceback (most recent call last)",
      "Cell \u001b[0;32mIn[2], line 2\u001b[0m\n\u001b[1;32m      1\u001b[0m \u001b[38;5;28;01mfrom\u001b[39;00m \u001b[38;5;21;01murl\u001b[39;00m \u001b[38;5;28;01mimport\u001b[39;00m \u001b[38;5;241m*\u001b[39m\n\u001b[0;32m----> 2\u001b[0m \u001b[38;5;28;01mfrom\u001b[39;00m \u001b[38;5;21;01mgooglesearch\u001b[39;00m \u001b[38;5;28;01mimport\u001b[39;00m search\n",
      "\u001b[0;31mModuleNotFoundError\u001b[0m: No module named 'googlesearch'"
     ]
    }
   ],
   "source": [
    "from url import *\n",
    "from googlesearch import search"
   ]
  },
  {
   "cell_type": "code",
   "execution_count": null,
   "metadata": {},
   "outputs": [],
   "source": [
    "def fetch_ingredient_quantity(ingredients, ingredient):\n",
    "    for i in ingredients:\n",
    "        if ingredient in i['name']:\n",
    "            return i['quantity'], i['unit']\n",
    "    return 0, None"
   ]
  },
  {
   "cell_type": "code",
   "execution_count": 3,
   "metadata": {},
   "outputs": [
    {
     "data": {
      "text/plain": [
       "'https://www.bakerssecret.com/blogs/food-articles/the-beginner-s-guide-to-baking-from-scratch?srsltid=AfmBOop59mmxXWENie_t5-iqFf74UmKxtSJBaP7mrdZDzuafD_9NicvS'"
      ]
     },
     "execution_count": 3,
     "metadata": {},
     "output_type": "execute_result"
    }
   ],
   "source": [
    "[i for i in search(\"How to bake\", stop=1)][0]"
   ]
  },
  {
   "cell_type": "code",
   "execution_count": null,
   "metadata": {},
   "outputs": [
    {
     "ename": "ValueError",
     "evalue": "too many values to unpack (expected 2)",
     "output_type": "error",
     "traceback": [
      "\u001b[1;31m---------------------------------------------------------------------------\u001b[0m",
      "\u001b[1;31mValueError\u001b[0m                                Traceback (most recent call last)",
      "Cell \u001b[1;32mIn[54], line 2\u001b[0m\n\u001b[0;32m      1\u001b[0m text \u001b[38;5;241m=\u001b[39m \u001b[38;5;28minput\u001b[39m(\u001b[38;5;124m\"\u001b[39m\u001b[38;5;124mHello! What recipe would you like to cook today? Please paste the link here to get started.\u001b[39m\u001b[38;5;124m\"\u001b[39m)\n\u001b[1;32m----> 2\u001b[0m ingredients, instructions \u001b[38;5;241m=\u001b[39m fetch_page_from_url(text)\n\u001b[0;32m      3\u001b[0m step \u001b[38;5;241m=\u001b[39m \u001b[38;5;241m0\u001b[39m\n\u001b[0;32m      5\u001b[0m \u001b[38;5;28;01mwhile\u001b[39;00m text \u001b[38;5;241m!=\u001b[39m \u001b[38;5;124m\"\u001b[39m\u001b[38;5;124mDone\u001b[39m\u001b[38;5;124m\"\u001b[39m \u001b[38;5;129;01mand\u001b[39;00m step \u001b[38;5;241m<\u001b[39m \u001b[38;5;28mlen\u001b[39m(instructions):\n",
      "\u001b[1;31mValueError\u001b[0m: too many values to unpack (expected 2)"
     ]
    }
   ],
   "source": [
    "text = input(\"Hello! What recipe would you like to cook today? Please paste the link here to get started.\")\n",
    "ingredients, instructions = fetch_page_from_url(text)\n",
    "step = 0\n",
    "\n",
    "while text != \"Done\":\n",
    "    text = input(\"\\nWhat would you like to do next?\\n\")\n",
    "    \n",
    "    if text == \"What are the ingredients?\":\n",
    "        for i in print_ingredients_list(ingredients):\n",
    "            print(i)\n",
    "    \n",
    "    elif text == \"What is the next step?\":\n",
    "        if step >= len(instructions):\n",
    "            print(\"That was the last step!\")\n",
    "        else:\n",
    "            print(instructions[step])\n",
    "            step += 1\n",
    "    \n",
    "    elif text == \"What is the previous step?\":\n",
    "        print(instructions[step-1])\n",
    "        \n",
    "    elif text == \"How do I do that?\":\n",
    "        # Need to create a better query somehow\n",
    "        print(\"Please look at the following link for reference:\")\n",
    "        print([i for i in search(\"How to:\" + instructions[step-1], stop=1)][0])\n",
    "        \n",
    "    # How much X do I need?\n",
    "    \n",
    "    # How many X do I need?\n",
    "    \n",
    "    else:\n",
    "        print(\"I'm sorry, I'm not smart enough to understand that!\")"
   ]
  },
  {
   "cell_type": "code",
   "execution_count": 46,
   "metadata": {},
   "outputs": [],
   "source": [
    "from url import *\n",
    "import spacy\n",
    "import nltk\n",
    "from nltk.corpus import wordnet as wn\n",
    "import re"
   ]
  },
  {
   "cell_type": "code",
   "execution_count": 47,
   "metadata": {},
   "outputs": [],
   "source": [
    "nlp = spacy.load(\"en_core_web_md\")"
   ]
  },
  {
   "cell_type": "code",
   "execution_count": 48,
   "metadata": {},
   "outputs": [],
   "source": [
    "url = \"https://www.allrecipes.com/recipe/218091/classic-and-simple-meat-lasagna/\""
   ]
  },
  {
   "cell_type": "code",
   "execution_count": 49,
   "metadata": {},
   "outputs": [],
   "source": [
    "ingredients, instructions = fetch_page_from_url(url)"
   ]
  },
  {
   "cell_type": "code",
   "execution_count": 50,
   "metadata": {},
   "outputs": [],
   "source": [
    "def extract_tools(instructions):\n",
    "    # Initialize an empty set to collect tools\n",
    "    tools_set = set()\n",
    "    \n",
    "    # Define a regex pattern to match common kitchen tool terms\n",
    "    tool_patterns = r\"\\b(?:oven|pot|skillet|bowl|pan|foil|sheet|knife|dish|grater|plate|whisk|rack)\\b\"\n",
    "    \n",
    "    # Iterate over each instruction\n",
    "    for instruction in instructions:\n",
    "        # Process the instruction with SpaCy NLP pipeline\n",
    "        doc = nlp(instruction)\n",
    "        \n",
    "        # Check each noun chunk to see if it matches the tool pattern\n",
    "        for chunk in doc.noun_chunks:\n",
    "            chunk_text = chunk.text.lower()\n",
    "            # If the chunk matches the tool pattern, add it to the tools set\n",
    "            if re.search(tool_patterns, chunk_text):\n",
    "                tools_set.add(chunk_text)\n",
    "            # Additional check with word embeddings to capture similar items\n",
    "            elif any(token.similarity(nlp(\"kitchen tool\")) > 0.5 for token in chunk):\n",
    "                tools_set.add(chunk_text)\n",
    "    \n",
    "    return list(tools_set)"
   ]
  },
  {
   "cell_type": "code",
   "execution_count": 51,
   "metadata": {},
   "outputs": [
    {
     "name": "stderr",
     "output_type": "stream",
     "text": [
      "/var/folders/rj/9zp9yl3s1jv50v3hrp7zghcm0000gn/T/ipykernel_2105/31509845.py:20: UserWarning: [W008] Evaluating Token.similarity based on empty vectors.\n",
      "  elif any(token.similarity(nlp(\"kitchen tool\")) > 0.5 for token in chunk):\n"
     ]
    },
    {
     "data": {
      "text/plain": [
       "['the preheated oven',\n",
       " 'a 9x13-inch baking pan',\n",
       " 'foil',\n",
       " 'a large skillet',\n",
       " 'the dish',\n",
       " 'a large bowl',\n",
       " 'the oven',\n",
       " 'a large pot',\n",
       " 'aluminum foil']"
      ]
     },
     "execution_count": 51,
     "metadata": {},
     "output_type": "execute_result"
    }
   ],
   "source": [
    "extract_tools(instructions)"
   ]
  },
  {
   "cell_type": "code",
   "execution_count": 52,
   "metadata": {},
   "outputs": [],
   "source": [
    "def extract_tools(instructions):\n",
    "    tools_set = set()\n",
    "    \n",
    "    # Define a regex pattern to match common kitchen tool terms\n",
    "    tool_patterns = r\"\\b(?:oven|pot|skillet|bowl|pan|foil|sheet|knife|dish|grater|plate|whisk|rack)\\b\"\n",
    "    \n",
    "    # Reference phrase for tool similarity\n",
    "    kitchen_tool_ref = nlp(\"kitchen tool\")\n",
    "    \n",
    "    for instruction in instructions:\n",
    "        doc = nlp(instruction)\n",
    "        \n",
    "        for chunk in doc.noun_chunks:\n",
    "            chunk_text = chunk.text.lower()\n",
    "            \n",
    "            # First, check if chunk matches the tool pattern\n",
    "            if re.search(tool_patterns, chunk_text):\n",
    "                tools_set.add(chunk_text)\n",
    "            else:\n",
    "                # Perform document-level similarity if chunk has vectors\n",
    "                if chunk.vector_norm and kitchen_tool_ref.vector_norm:  # Ensure both have vectors\n",
    "                    similarity = chunk.similarity(kitchen_tool_ref)\n",
    "                    if similarity > 0.5:\n",
    "                        tools_set.add(chunk_text)\n",
    "    \n",
    "    return list(tools_set)"
   ]
  },
  {
   "cell_type": "code",
   "execution_count": 53,
   "metadata": {},
   "outputs": [
    {
     "data": {
      "text/plain": [
       "['the preheated oven',\n",
       " 'a 9x13-inch baking pan',\n",
       " 'foil',\n",
       " 'a large skillet',\n",
       " 'the dish',\n",
       " 'a large bowl',\n",
       " 'the oven',\n",
       " 'a large pot',\n",
       " 'aluminum foil']"
      ]
     },
     "execution_count": 53,
     "metadata": {},
     "output_type": "execute_result"
    }
   ],
   "source": [
    "extract_tools(instructions)"
   ]
  },
  {
   "cell_type": "code",
   "execution_count": null,
   "metadata": {},
   "outputs": [],
   "source": []
  }
 ],
 "metadata": {
  "kernelspec": {
   "display_name": "gg337",
   "language": "python",
   "name": "python3"
  },
  "language_info": {
   "codemirror_mode": {
    "name": "ipython",
    "version": 3
   },
   "file_extension": ".py",
   "mimetype": "text/x-python",
   "name": "python",
   "nbconvert_exporter": "python",
   "pygments_lexer": "ipython3",
   "version": "3.10.13"
  }
 },
 "nbformat": 4,
 "nbformat_minor": 2
}
