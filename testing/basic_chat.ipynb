{
 "cells": [
  {
   "cell_type": "code",
   "execution_count": 1,
   "metadata": {},
   "outputs": [],
   "source": [
    "from url import *\n",
    "from googlesearch import search"
   ]
  },
  {
   "cell_type": "code",
   "execution_count": null,
   "metadata": {},
   "outputs": [],
   "source": [
    "def fetch_ingredient_quantity(ingredients, ingredient):\n",
    "    for i in ingredients:\n",
    "        if ingredient in i['name']:\n",
    "            return i['quantity'], i['unit']\n",
    "    return 0, None"
   ]
  },
  {
   "cell_type": "code",
   "execution_count": 3,
   "metadata": {},
   "outputs": [
    {
     "data": {
      "text/plain": [
       "'https://www.bakerssecret.com/blogs/food-articles/the-beginner-s-guide-to-baking-from-scratch?srsltid=AfmBOop59mmxXWENie_t5-iqFf74UmKxtSJBaP7mrdZDzuafD_9NicvS'"
      ]
     },
     "execution_count": 3,
     "metadata": {},
     "output_type": "execute_result"
    }
   ],
   "source": [
    "[i for i in search(\"How to bake\", stop=1)][0]"
   ]
  },
  {
   "cell_type": "code",
   "execution_count": null,
   "metadata": {},
   "outputs": [
    {
     "ename": "ValueError",
     "evalue": "too many values to unpack (expected 2)",
     "output_type": "error",
     "traceback": [
      "\u001b[1;31m---------------------------------------------------------------------------\u001b[0m",
      "\u001b[1;31mValueError\u001b[0m                                Traceback (most recent call last)",
      "Cell \u001b[1;32mIn[54], line 2\u001b[0m\n\u001b[0;32m      1\u001b[0m text \u001b[38;5;241m=\u001b[39m \u001b[38;5;28minput\u001b[39m(\u001b[38;5;124m\"\u001b[39m\u001b[38;5;124mHello! What recipe would you like to cook today? Please paste the link here to get started.\u001b[39m\u001b[38;5;124m\"\u001b[39m)\n\u001b[1;32m----> 2\u001b[0m ingredients, instructions \u001b[38;5;241m=\u001b[39m fetch_page_from_url(text)\n\u001b[0;32m      3\u001b[0m step \u001b[38;5;241m=\u001b[39m \u001b[38;5;241m0\u001b[39m\n\u001b[0;32m      5\u001b[0m \u001b[38;5;28;01mwhile\u001b[39;00m text \u001b[38;5;241m!=\u001b[39m \u001b[38;5;124m\"\u001b[39m\u001b[38;5;124mDone\u001b[39m\u001b[38;5;124m\"\u001b[39m \u001b[38;5;129;01mand\u001b[39;00m step \u001b[38;5;241m<\u001b[39m \u001b[38;5;28mlen\u001b[39m(instructions):\n",
      "\u001b[1;31mValueError\u001b[0m: too many values to unpack (expected 2)"
     ]
    }
   ],
   "source": [
    "text = input(\"Hello! What recipe would you like to cook today? Please paste the link here to get started.\")\n",
    "ingredients, instructions = fetch_page_from_url(text)\n",
    "step = 0\n",
    "\n",
    "while text != \"Done\":\n",
    "    text = input(\"\\nWhat would you like to do next?\\n\")\n",
    "    \n",
    "    if text == \"What are the ingredients?\":\n",
    "        for i in print_ingredients_list(ingredients):\n",
    "            print(i)\n",
    "    \n",
    "    elif text == \"What is the next step?\":\n",
    "        if step >= len(instructions):\n",
    "            print(\"That was the last step!\")\n",
    "        else:\n",
    "            print(instructions[step])\n",
    "            step += 1\n",
    "    \n",
    "    elif text == \"What is the previous step?\":\n",
    "        print(instructions[step-1])\n",
    "        \n",
    "    elif text == \"How do I do that?\":\n",
    "        # Need to create a better query somehow\n",
    "        print(\"Please look at the following link for reference:\")\n",
    "        print([i for i in search(\"How to:\" + instructions[step-1], stop=1)][0])\n",
    "        \n",
    "    # How much X do I need?\n",
    "    \n",
    "    # How many X do I need?\n",
    "    \n",
    "    else:\n",
    "        print(\"I'm sorry, I'm not smart enough to understand that!\")"
   ]
  },
  {
   "cell_type": "code",
   "execution_count": null,
   "metadata": {},
   "outputs": [],
   "source": []
  }
 ],
 "metadata": {
  "kernelspec": {
   "display_name": "gg337",
   "language": "python",
   "name": "python3"
  },
  "language_info": {
   "codemirror_mode": {
    "name": "ipython",
    "version": 3
   },
   "file_extension": ".py",
   "mimetype": "text/x-python",
   "name": "python",
   "nbconvert_exporter": "python",
   "pygments_lexer": "ipython3",
   "version": "3.10.15"
  }
 },
 "nbformat": 4,
 "nbformat_minor": 2
}
