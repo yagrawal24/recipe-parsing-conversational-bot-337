{
 "cells": [
  {
   "cell_type": "code",
   "execution_count": 1,
   "metadata": {},
   "outputs": [],
   "source": [
    "from url import *"
   ]
  },
  {
   "cell_type": "code",
   "execution_count": 4,
   "metadata": {},
   "outputs": [],
   "source": [
    "details, ingredients, instructions = fetch_page_from_url(\"https://www.allrecipes.com/mediterranean-baked-cod-with-lemon-recipe-8576313\")"
   ]
  },
  {
   "cell_type": "code",
   "execution_count": 5,
   "metadata": {},
   "outputs": [
    {
     "data": {
      "text/plain": [
       "{'@context': 'http://schema.org',\n",
       " '@type': ['Recipe'],\n",
       " 'headline': 'Mediterranean Baked Cod with Lemon',\n",
       " 'datePublished': '2024-02-23T14:27:40.810-05:00',\n",
       " 'dateModified': '2024-03-11T14:44:07.500-04:00',\n",
       " 'author': [{'@type': 'Person',\n",
       "   'name': 'Brenda Venable ',\n",
       "   'url': 'https://www.allrecipes.com/brenda-venable-7113578'}],\n",
       " 'description': 'This Mediterranean baked cod with lemon is deliciously seasoned with fresh Mediterranean herbs, garlic, and lemon, and is ready in 25 minutes, start to finish.',\n",
       " 'image': {'@type': 'ImageObject',\n",
       "  'url': 'https://www.allrecipes.com/thmb/jsT84mNdLj5EUVYFUWK2wkc1gOs=/1500x0/filters:no_upscale():max_bytes(150000):strip_icc()/8576313_Mediterranean-Baked-Cod-with-Lemon_Brenda-Venable_4x3-b34ff9cd504b4aca9ba74d5ca8ba0c4d.jpg',\n",
       "  'height': 1125,\n",
       "  'width': 1500},\n",
       " 'publisher': {'@type': 'Organization',\n",
       "  'name': 'Allrecipes',\n",
       "  'url': 'https://www.allrecipes.com',\n",
       "  'logo': {'@type': 'ImageObject',\n",
       "   'url': 'https://www.allrecipes.com/thmb/Z9lwz1y0B5aX-cemPiTgpn5YB0k=/112x112/filters:no_upscale():max_bytes(150000):strip_icc()/allrecipes_logo_schema-867c69d2999b439a9eba923a445ccfe3.png',\n",
       "   'width': 112,\n",
       "   'height': 112},\n",
       "  'brand': 'Allrecipes',\n",
       "  'publishingPrinciples': 'https://www.allrecipes.com/about-us-6648102#toc-editorial-guidelines',\n",
       "  'sameAs': ['https://www.facebook.com/allrecipes',\n",
       "   'https://www.instagram.com/allrecipes/',\n",
       "   'https://www.pinterest.com/allrecipes/',\n",
       "   'https://www.tiktok.com/@allrecipes',\n",
       "   'https://www.youtube.com/user/allrecipes/videos',\n",
       "   'https://twitter.com/Allrecipes',\n",
       "   'https://flipboard.com/@Allrecipes',\n",
       "   'https://en.wikipedia.org/wiki/Allrecipes.com',\n",
       "   'http://linkedin.com/company/allrecipes.com']},\n",
       " 'name': 'Mediterranean Baked Cod with Lemon',\n",
       " 'aggregateRating': {'@type': 'AggregateRating',\n",
       "  'ratingValue': '5',\n",
       "  'ratingCount': '2'},\n",
       " 'cookTime': 'PT15M',\n",
       " 'nutrition': {'@type': 'NutritionInformation',\n",
       "  'calories': '388 kcal',\n",
       "  'carbohydrateContent': '29 g',\n",
       "  'cholesterolContent': '116 mg',\n",
       "  'fiberContent': '7 g',\n",
       "  'proteinContent': '42 g',\n",
       "  'saturatedFatContent': '6 g',\n",
       "  'sodiumContent': '404 mg',\n",
       "  'sugarContent': '12 g',\n",
       "  'fatContent': '14 g',\n",
       "  'unsaturatedFatContent': '0 g'},\n",
       " 'prepTime': 'PT10M',\n",
       " 'recipeCategory': ['Dinner', 'Entree'],\n",
       " 'recipeCuisine': ['Greek'],\n",
       " 'recipeIngredient': ['3 Tablespoons softened unsalted butter',\n",
       "  '1 Tablespoon finely minced fresh garlic',\n",
       "  '1 Tablespoon minced fresh parsley',\n",
       "  '2 teaspoons minced fresh oregano',\n",
       "  '1 teaspoon minced fresh thyme or rosemary',\n",
       "  '1/2 teaspoon finely ground pink salt, or to taste',\n",
       "  '1/4 teaspoon freshly ground black pepper',\n",
       "  '1/2 teaspoon paprika',\n",
       "  '1 lemon, cut into 8 thin slices',\n",
       "  '4 cod filets, about 6 ounces each',\n",
       "  '1 Tablespoon extra virgin olive oil',\n",
       "  'Fresh parsley springs for optional garnish'],\n",
       " 'recipeInstructions': [{'@type': 'HowToStep',\n",
       "   'text': 'Preheat the oven to 400 degrees F (200 degrees C).'},\n",
       "  {'@type': 'HowToStep',\n",
       "   'text': 'Place softened butter, minced garlic, parsley, oregano, and thyme or rosemary on a cutting board. Using a sharp knife, cut herbs and garlic into each other and the butter, cutting and mixing as you go. Add pink salt, black pepper, and paprika, and mix until well blended.'},\n",
       "  {'@type': 'HowToStep',\n",
       "   'text': 'Pat cod filets dry. In a 12x18-inch casserole or baking pan, place each filet on top of 2 lemon slices. Evenly divide herb butter mixture among the filets; use a fork or offset spatula to spread herb butter over filets. Top each filet with 2 remaining lemon slices.'},\n",
       "  {'@type': 'HowToStep',\n",
       "   'text': 'Bake in the preheated oven until cod flakes easily with a fork, 13 to 15 minutes. See note.'},\n",
       "  {'@type': 'HowToStep',\n",
       "   'text': 'To serve, drizzle each filet with extra virgin olive oil, and garnish with fresh parsley, if desired.'}],\n",
       " 'recipeYield': ['4'],\n",
       " 'totalTime': 'PT25M',\n",
       " 'review': [{'@type': 'Review',\n",
       "   'reviewRating': {'@type': 'Rating', 'ratingValue': '5'},\n",
       "   'author': {'@type': 'Person', 'name': 'Francag23'},\n",
       "   'reviewBody': 'Made it tonight. Easy to make and quick.',\n",
       "   'datePublished': '2024-09-24T22:46:27.464Z'},\n",
       "  {'@type': 'Review',\n",
       "   'reviewRating': {'@type': 'Rating', 'ratingValue': '5'},\n",
       "   'author': {'@type': 'Person', 'name': 'Poppe Art'},\n",
       "   'reviewBody': 'I made this tonight and it was fabulous. Thanks!',\n",
       "   'datePublished': '2024-08-27T01:30:19.615Z'}],\n",
       " 'mainEntityOfPage': {'@type': ['WebPage'],\n",
       "  '@id': 'https://www.allrecipes.com/mediterranean-baked-cod-with-lemon-recipe-8576313',\n",
       "  'breadcrumb': {'@type': 'BreadcrumbList',\n",
       "   'itemListElement': [{'@type': 'ListItem',\n",
       "     'position': 1,\n",
       "     'item': {'@id': 'https://www.allrecipes.com/recipes/',\n",
       "      'name': 'Recipes'}},\n",
       "    {'@type': 'ListItem',\n",
       "     'position': 2,\n",
       "     'item': {'@id': 'https://www.allrecipes.com/recipes/80/main-dish/',\n",
       "      'name': 'Main Dishes'}},\n",
       "    {'@type': 'ListItem',\n",
       "     'position': 3,\n",
       "     'item': {'@id': 'https://www.allrecipes.com/recipes/13290/main-dish/seafood/',\n",
       "      'name': 'Seafood Main Dishes'}},\n",
       "    {'@type': 'ListItem',\n",
       "     'position': 4,\n",
       "     'item': {'@id': 'https://www.allrecipes.com/recipes/13296/main-dish/seafood/cod/',\n",
       "      'name': 'Cod'}}]}}}"
      ]
     },
     "execution_count": 5,
     "metadata": {},
     "output_type": "execute_result"
    }
   ],
   "source": [
    "details"
   ]
  },
  {
   "cell_type": "code",
   "execution_count": null,
   "metadata": {},
   "outputs": [],
   "source": []
  }
 ],
 "metadata": {
  "kernelspec": {
   "display_name": "Python 3",
   "language": "python",
   "name": "python3"
  },
  "language_info": {
   "codemirror_mode": {
    "name": "ipython",
    "version": 3
   },
   "file_extension": ".py",
   "mimetype": "text/x-python",
   "name": "python",
   "nbconvert_exporter": "python",
   "pygments_lexer": "ipython3",
   "version": "3.10.9"
  }
 },
 "nbformat": 4,
 "nbformat_minor": 2
}
